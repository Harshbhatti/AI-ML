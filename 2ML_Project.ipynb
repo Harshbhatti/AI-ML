{
 "cells": [
  {
   "cell_type": "markdown",
   "id": "69f8d9c9",
   "metadata": {},
   "source": [
    "# Read Dataset"
   ]
  },
  {
   "cell_type": "code",
   "execution_count": 1,
   "id": "77720965",
   "metadata": {},
   "outputs": [],
   "source": [
    "import pandas as pd"
   ]
  },
  {
   "cell_type": "code",
   "execution_count": 2,
   "id": "0f688366",
   "metadata": {},
   "outputs": [],
   "source": [
    "df=pd.read_excel('Applications_for_Machine_Learning_internship_edited.xlsx')"
   ]
  },
  {
   "cell_type": "code",
   "execution_count": 6,
   "id": "b0d2bd8c",
   "metadata": {
    "scrolled": true
   },
   "outputs": [
    {
     "data": {
      "text/html": [
       "<div>\n",
       "<style scoped>\n",
       "    .dataframe tbody tr th:only-of-type {\n",
       "        vertical-align: middle;\n",
       "    }\n",
       "\n",
       "    .dataframe tbody tr th {\n",
       "        vertical-align: top;\n",
       "    }\n",
       "\n",
       "    .dataframe thead th {\n",
       "        text-align: right;\n",
       "    }\n",
       "</style>\n",
       "<table border=\"1\" class=\"dataframe\">\n",
       "  <thead>\n",
       "    <tr style=\"text-align: right;\">\n",
       "      <th></th>\n",
       "      <th>Name</th>\n",
       "      <th>Python (out of 3)</th>\n",
       "      <th>Machine Learning (out of 3)</th>\n",
       "      <th>Natural Language Processing (NLP) (out of 3)</th>\n",
       "      <th>Deep Learning (out of 3)</th>\n",
       "      <th>Other skills</th>\n",
       "      <th>Are you available for 3 months, starting immediately, for a full-time work from home internship?</th>\n",
       "      <th>Degree</th>\n",
       "      <th>Stream</th>\n",
       "      <th>Current Year Of Graduation</th>\n",
       "      <th>Performance_PG</th>\n",
       "      <th>Performance_UG</th>\n",
       "      <th>Performance_12</th>\n",
       "      <th>Performance_10</th>\n",
       "    </tr>\n",
       "  </thead>\n",
       "  <tbody>\n",
       "    <tr>\n",
       "      <th>0</th>\n",
       "      <td>NaN</td>\n",
       "      <td>1</td>\n",
       "      <td>0</td>\n",
       "      <td>0</td>\n",
       "      <td>1</td>\n",
       "      <td>MS-Excel, MS-Word, Deep Learning, MySQL, Pytho...</td>\n",
       "      <td>Yes, I am available for 3 months starting imme...</td>\n",
       "      <td>Bachelor of Vocation (B.Voc.)</td>\n",
       "      <td>Software Engineering</td>\n",
       "      <td>2021</td>\n",
       "      <td>NaN</td>\n",
       "      <td>6.50/7</td>\n",
       "      <td>NaN</td>\n",
       "      <td>NaN</td>\n",
       "    </tr>\n",
       "    <tr>\n",
       "      <th>1</th>\n",
       "      <td>NaN</td>\n",
       "      <td>2</td>\n",
       "      <td>0</td>\n",
       "      <td>0</td>\n",
       "      <td>0</td>\n",
       "      <td>Git, GitHub, Linux, Adobe After Effects, Adobe...</td>\n",
       "      <td>Yes, I am available for 3 months starting imme...</td>\n",
       "      <td>B.Tech</td>\n",
       "      <td>Computer Science &amp; Engineering</td>\n",
       "      <td>2024</td>\n",
       "      <td>NaN</td>\n",
       "      <td>8.90/10</td>\n",
       "      <td>NaN</td>\n",
       "      <td>NaN</td>\n",
       "    </tr>\n",
       "    <tr>\n",
       "      <th>2</th>\n",
       "      <td>NaN</td>\n",
       "      <td>2</td>\n",
       "      <td>2</td>\n",
       "      <td>0</td>\n",
       "      <td>0</td>\n",
       "      <td>Amazon Web Services (AWS), Docker, Hadoop, MS-...</td>\n",
       "      <td>Yes, I am available for 3 months starting imme...</td>\n",
       "      <td>Master of Science (M.S.)</td>\n",
       "      <td>Data Science And Analytics</td>\n",
       "      <td>2022</td>\n",
       "      <td>NaN</td>\n",
       "      <td>NaN</td>\n",
       "      <td>NaN</td>\n",
       "      <td>NaN</td>\n",
       "    </tr>\n",
       "    <tr>\n",
       "      <th>3</th>\n",
       "      <td>NaN</td>\n",
       "      <td>3</td>\n",
       "      <td>2</td>\n",
       "      <td>2</td>\n",
       "      <td>0</td>\n",
       "      <td>Adobe XD, BIG DATA ANALYTICS, Canva, Data Anal...</td>\n",
       "      <td>Yes, I am available for 3 months starting imme...</td>\n",
       "      <td>Bachelor of Engineering (B.E)</td>\n",
       "      <td>NaN</td>\n",
       "      <td>2024</td>\n",
       "      <td>NaN</td>\n",
       "      <td>NaN</td>\n",
       "      <td>85.60/85.60</td>\n",
       "      <td>10.00/10.00</td>\n",
       "    </tr>\n",
       "    <tr>\n",
       "      <th>4</th>\n",
       "      <td>NaN</td>\n",
       "      <td>2</td>\n",
       "      <td>2</td>\n",
       "      <td>0</td>\n",
       "      <td>0</td>\n",
       "      <td>C++ Programming, Data Science, Machine Learnin...</td>\n",
       "      <td>Yes, I am available for 3 months starting imme...</td>\n",
       "      <td>B.Tech</td>\n",
       "      <td>Computer Science</td>\n",
       "      <td>2023</td>\n",
       "      <td>NaN</td>\n",
       "      <td>8.10/10</td>\n",
       "      <td>93.40/93.40</td>\n",
       "      <td>10.00/10.00</td>\n",
       "    </tr>\n",
       "    <tr>\n",
       "      <th>...</th>\n",
       "      <td>...</td>\n",
       "      <td>...</td>\n",
       "      <td>...</td>\n",
       "      <td>...</td>\n",
       "      <td>...</td>\n",
       "      <td>...</td>\n",
       "      <td>...</td>\n",
       "      <td>...</td>\n",
       "      <td>...</td>\n",
       "      <td>...</td>\n",
       "      <td>...</td>\n",
       "      <td>...</td>\n",
       "      <td>...</td>\n",
       "      <td>...</td>\n",
       "    </tr>\n",
       "    <tr>\n",
       "      <th>1131</th>\n",
       "      <td>NaN</td>\n",
       "      <td>2</td>\n",
       "      <td>2</td>\n",
       "      <td>0</td>\n",
       "      <td>2</td>\n",
       "      <td>Data Analytics, Amazon Web Services (AWS), Dat...</td>\n",
       "      <td>Yes, I am available for 3 months starting imme...</td>\n",
       "      <td>B.Tech</td>\n",
       "      <td>Mechanical Engineering</td>\n",
       "      <td>2021</td>\n",
       "      <td>NaN</td>\n",
       "      <td>NaN</td>\n",
       "      <td>NaN</td>\n",
       "      <td>NaN</td>\n",
       "    </tr>\n",
       "    <tr>\n",
       "      <th>1132</th>\n",
       "      <td>NaN</td>\n",
       "      <td>3</td>\n",
       "      <td>3</td>\n",
       "      <td>2</td>\n",
       "      <td>3</td>\n",
       "      <td>Deep Learning, Docker, HTML, MS-Office, Machin...</td>\n",
       "      <td>Yes, I am available for 3 months starting imme...</td>\n",
       "      <td>B.Tech</td>\n",
       "      <td>Computer Science &amp; Engineering</td>\n",
       "      <td>2024</td>\n",
       "      <td>NaN</td>\n",
       "      <td>NaN</td>\n",
       "      <td>NaN</td>\n",
       "      <td>NaN</td>\n",
       "    </tr>\n",
       "    <tr>\n",
       "      <th>1133</th>\n",
       "      <td>NaN</td>\n",
       "      <td>3</td>\n",
       "      <td>1</td>\n",
       "      <td>3</td>\n",
       "      <td>3</td>\n",
       "      <td>Data Science, Deep Learning, English Proficien...</td>\n",
       "      <td>Yes, I am available for 3 months starting imme...</td>\n",
       "      <td>B.Tech</td>\n",
       "      <td>Electronics and Communication</td>\n",
       "      <td>2025</td>\n",
       "      <td>NaN</td>\n",
       "      <td>8.77/10</td>\n",
       "      <td>9.40/9.40</td>\n",
       "      <td>NaN</td>\n",
       "    </tr>\n",
       "    <tr>\n",
       "      <th>1134</th>\n",
       "      <td>NaN</td>\n",
       "      <td>2</td>\n",
       "      <td>1</td>\n",
       "      <td>0</td>\n",
       "      <td>0</td>\n",
       "      <td>Python, Data Analytics, MS-Excel, Machine Lear...</td>\n",
       "      <td>Yes, I am available for 3 months starting imme...</td>\n",
       "      <td>B.Tech</td>\n",
       "      <td>Computer Science</td>\n",
       "      <td>2024</td>\n",
       "      <td>NaN</td>\n",
       "      <td>7.90/10</td>\n",
       "      <td>90.00/90.00</td>\n",
       "      <td>NaN</td>\n",
       "    </tr>\n",
       "    <tr>\n",
       "      <th>1135</th>\n",
       "      <td>NaN</td>\n",
       "      <td>2</td>\n",
       "      <td>0</td>\n",
       "      <td>0</td>\n",
       "      <td>0</td>\n",
       "      <td>C++ Programming, Database Management System (D...</td>\n",
       "      <td>Yes, I am available for 3 months starting imme...</td>\n",
       "      <td>B.Tech</td>\n",
       "      <td>Engineering</td>\n",
       "      <td>2024</td>\n",
       "      <td>NaN</td>\n",
       "      <td>NaN</td>\n",
       "      <td>NaN</td>\n",
       "      <td>NaN</td>\n",
       "    </tr>\n",
       "  </tbody>\n",
       "</table>\n",
       "<p>1136 rows × 14 columns</p>\n",
       "</div>"
      ],
      "text/plain": [
       "      Name  Python (out of 3)  Machine Learning (out of 3)  \\\n",
       "0      NaN                  1                            0   \n",
       "1      NaN                  2                            0   \n",
       "2      NaN                  2                            2   \n",
       "3      NaN                  3                            2   \n",
       "4      NaN                  2                            2   \n",
       "...    ...                ...                          ...   \n",
       "1131   NaN                  2                            2   \n",
       "1132   NaN                  3                            3   \n",
       "1133   NaN                  3                            1   \n",
       "1134   NaN                  2                            1   \n",
       "1135   NaN                  2                            0   \n",
       "\n",
       "      Natural Language Processing (NLP) (out of 3)  Deep Learning (out of 3)  \\\n",
       "0                                                0                         1   \n",
       "1                                                0                         0   \n",
       "2                                                0                         0   \n",
       "3                                                2                         0   \n",
       "4                                                0                         0   \n",
       "...                                            ...                       ...   \n",
       "1131                                             0                         2   \n",
       "1132                                             2                         3   \n",
       "1133                                             3                         3   \n",
       "1134                                             0                         0   \n",
       "1135                                             0                         0   \n",
       "\n",
       "                                           Other skills  \\\n",
       "0     MS-Excel, MS-Word, Deep Learning, MySQL, Pytho...   \n",
       "1     Git, GitHub, Linux, Adobe After Effects, Adobe...   \n",
       "2     Amazon Web Services (AWS), Docker, Hadoop, MS-...   \n",
       "3     Adobe XD, BIG DATA ANALYTICS, Canva, Data Anal...   \n",
       "4     C++ Programming, Data Science, Machine Learnin...   \n",
       "...                                                 ...   \n",
       "1131  Data Analytics, Amazon Web Services (AWS), Dat...   \n",
       "1132  Deep Learning, Docker, HTML, MS-Office, Machin...   \n",
       "1133  Data Science, Deep Learning, English Proficien...   \n",
       "1134  Python, Data Analytics, MS-Excel, Machine Lear...   \n",
       "1135  C++ Programming, Database Management System (D...   \n",
       "\n",
       "     Are you available for 3 months, starting immediately, for a full-time work from home internship?   \\\n",
       "0     Yes, I am available for 3 months starting imme...                                                  \n",
       "1     Yes, I am available for 3 months starting imme...                                                  \n",
       "2     Yes, I am available for 3 months starting imme...                                                  \n",
       "3     Yes, I am available for 3 months starting imme...                                                  \n",
       "4     Yes, I am available for 3 months starting imme...                                                  \n",
       "...                                                 ...                                                  \n",
       "1131  Yes, I am available for 3 months starting imme...                                                  \n",
       "1132  Yes, I am available for 3 months starting imme...                                                  \n",
       "1133  Yes, I am available for 3 months starting imme...                                                  \n",
       "1134  Yes, I am available for 3 months starting imme...                                                  \n",
       "1135  Yes, I am available for 3 months starting imme...                                                  \n",
       "\n",
       "                             Degree                          Stream  \\\n",
       "0     Bachelor of Vocation (B.Voc.)            Software Engineering   \n",
       "1                            B.Tech  Computer Science & Engineering   \n",
       "2          Master of Science (M.S.)      Data Science And Analytics   \n",
       "3     Bachelor of Engineering (B.E)                             NaN   \n",
       "4                            B.Tech                Computer Science   \n",
       "...                             ...                             ...   \n",
       "1131                         B.Tech          Mechanical Engineering   \n",
       "1132                         B.Tech  Computer Science & Engineering   \n",
       "1133                         B.Tech   Electronics and Communication   \n",
       "1134                         B.Tech                Computer Science   \n",
       "1135                         B.Tech                     Engineering   \n",
       "\n",
       "      Current Year Of Graduation Performance_PG Performance_UG Performance_12  \\\n",
       "0                           2021            NaN         6.50/7            NaN   \n",
       "1                           2024            NaN        8.90/10            NaN   \n",
       "2                           2022            NaN            NaN            NaN   \n",
       "3                           2024            NaN            NaN    85.60/85.60   \n",
       "4                           2023            NaN        8.10/10    93.40/93.40   \n",
       "...                          ...            ...            ...            ...   \n",
       "1131                        2021            NaN            NaN            NaN   \n",
       "1132                        2024            NaN            NaN            NaN   \n",
       "1133                        2025            NaN        8.77/10      9.40/9.40   \n",
       "1134                        2024            NaN        7.90/10    90.00/90.00   \n",
       "1135                        2024            NaN            NaN            NaN   \n",
       "\n",
       "     Performance_10  \n",
       "0               NaN  \n",
       "1               NaN  \n",
       "2               NaN  \n",
       "3       10.00/10.00  \n",
       "4       10.00/10.00  \n",
       "...             ...  \n",
       "1131            NaN  \n",
       "1132            NaN  \n",
       "1133            NaN  \n",
       "1134            NaN  \n",
       "1135            NaN  \n",
       "\n",
       "[1136 rows x 14 columns]"
      ]
     },
     "execution_count": 6,
     "metadata": {},
     "output_type": "execute_result"
    }
   ],
   "source": [
    "df"
   ]
  },
  {
   "cell_type": "code",
   "execution_count": 7,
   "id": "4e55c0de",
   "metadata": {},
   "outputs": [
    {
     "data": {
      "text/plain": [
       "Name                                                                                                 float64\n",
       "Python (out of 3)                                                                                      int64\n",
       "Machine Learning (out of 3)                                                                            int64\n",
       "Natural Language Processing (NLP) (out of 3)                                                           int64\n",
       "Deep Learning (out of 3)                                                                               int64\n",
       "Other skills                                                                                          object\n",
       "Are you available for 3 months, starting immediately, for a full-time work from home internship?      object\n",
       "Degree                                                                                                object\n",
       "Stream                                                                                                object\n",
       "Current Year Of Graduation                                                                             int64\n",
       "Performance_PG                                                                                        object\n",
       "Performance_UG                                                                                        object\n",
       "Performance_12                                                                                        object\n",
       "Performance_10                                                                                        object\n",
       "dtype: object"
      ]
     },
     "execution_count": 7,
     "metadata": {},
     "output_type": "execute_result"
    }
   ],
   "source": [
    "df.dtypes"
   ]
  },
  {
   "cell_type": "code",
   "execution_count": 8,
   "id": "385f0225",
   "metadata": {},
   "outputs": [],
   "source": [
    "df_drop=[0,6,10,11,12,13]\n",
    "df2 = df.drop(df.columns[df_drop], axis=1)"
   ]
  },
  {
   "cell_type": "code",
   "execution_count": 9,
   "id": "1dd0cef8",
   "metadata": {
    "scrolled": true
   },
   "outputs": [
    {
     "data": {
      "text/html": [
       "<div>\n",
       "<style scoped>\n",
       "    .dataframe tbody tr th:only-of-type {\n",
       "        vertical-align: middle;\n",
       "    }\n",
       "\n",
       "    .dataframe tbody tr th {\n",
       "        vertical-align: top;\n",
       "    }\n",
       "\n",
       "    .dataframe thead th {\n",
       "        text-align: right;\n",
       "    }\n",
       "</style>\n",
       "<table border=\"1\" class=\"dataframe\">\n",
       "  <thead>\n",
       "    <tr style=\"text-align: right;\">\n",
       "      <th></th>\n",
       "      <th>Python (out of 3)</th>\n",
       "      <th>Machine Learning (out of 3)</th>\n",
       "      <th>Natural Language Processing (NLP) (out of 3)</th>\n",
       "      <th>Deep Learning (out of 3)</th>\n",
       "      <th>Other skills</th>\n",
       "      <th>Degree</th>\n",
       "      <th>Stream</th>\n",
       "      <th>Current Year Of Graduation</th>\n",
       "    </tr>\n",
       "  </thead>\n",
       "  <tbody>\n",
       "    <tr>\n",
       "      <th>0</th>\n",
       "      <td>1</td>\n",
       "      <td>0</td>\n",
       "      <td>0</td>\n",
       "      <td>1</td>\n",
       "      <td>MS-Excel, MS-Word, Deep Learning, MySQL, Pytho...</td>\n",
       "      <td>Bachelor of Vocation (B.Voc.)</td>\n",
       "      <td>Software Engineering</td>\n",
       "      <td>2021</td>\n",
       "    </tr>\n",
       "    <tr>\n",
       "      <th>1</th>\n",
       "      <td>2</td>\n",
       "      <td>0</td>\n",
       "      <td>0</td>\n",
       "      <td>0</td>\n",
       "      <td>Git, GitHub, Linux, Adobe After Effects, Adobe...</td>\n",
       "      <td>B.Tech</td>\n",
       "      <td>Computer Science &amp; Engineering</td>\n",
       "      <td>2024</td>\n",
       "    </tr>\n",
       "    <tr>\n",
       "      <th>2</th>\n",
       "      <td>2</td>\n",
       "      <td>2</td>\n",
       "      <td>0</td>\n",
       "      <td>0</td>\n",
       "      <td>Amazon Web Services (AWS), Docker, Hadoop, MS-...</td>\n",
       "      <td>Master of Science (M.S.)</td>\n",
       "      <td>Data Science And Analytics</td>\n",
       "      <td>2022</td>\n",
       "    </tr>\n",
       "    <tr>\n",
       "      <th>3</th>\n",
       "      <td>3</td>\n",
       "      <td>2</td>\n",
       "      <td>2</td>\n",
       "      <td>0</td>\n",
       "      <td>Adobe XD, BIG DATA ANALYTICS, Canva, Data Anal...</td>\n",
       "      <td>Bachelor of Engineering (B.E)</td>\n",
       "      <td>NaN</td>\n",
       "      <td>2024</td>\n",
       "    </tr>\n",
       "    <tr>\n",
       "      <th>4</th>\n",
       "      <td>2</td>\n",
       "      <td>2</td>\n",
       "      <td>0</td>\n",
       "      <td>0</td>\n",
       "      <td>C++ Programming, Data Science, Machine Learnin...</td>\n",
       "      <td>B.Tech</td>\n",
       "      <td>Computer Science</td>\n",
       "      <td>2023</td>\n",
       "    </tr>\n",
       "  </tbody>\n",
       "</table>\n",
       "</div>"
      ],
      "text/plain": [
       "   Python (out of 3)  Machine Learning (out of 3)  \\\n",
       "0                  1                            0   \n",
       "1                  2                            0   \n",
       "2                  2                            2   \n",
       "3                  3                            2   \n",
       "4                  2                            2   \n",
       "\n",
       "   Natural Language Processing (NLP) (out of 3)  Deep Learning (out of 3)  \\\n",
       "0                                             0                         1   \n",
       "1                                             0                         0   \n",
       "2                                             0                         0   \n",
       "3                                             2                         0   \n",
       "4                                             0                         0   \n",
       "\n",
       "                                        Other skills  \\\n",
       "0  MS-Excel, MS-Word, Deep Learning, MySQL, Pytho...   \n",
       "1  Git, GitHub, Linux, Adobe After Effects, Adobe...   \n",
       "2  Amazon Web Services (AWS), Docker, Hadoop, MS-...   \n",
       "3  Adobe XD, BIG DATA ANALYTICS, Canva, Data Anal...   \n",
       "4  C++ Programming, Data Science, Machine Learnin...   \n",
       "\n",
       "                          Degree                          Stream  \\\n",
       "0  Bachelor of Vocation (B.Voc.)            Software Engineering   \n",
       "1                         B.Tech  Computer Science & Engineering   \n",
       "2       Master of Science (M.S.)      Data Science And Analytics   \n",
       "3  Bachelor of Engineering (B.E)                             NaN   \n",
       "4                         B.Tech                Computer Science   \n",
       "\n",
       "   Current Year Of Graduation  \n",
       "0                        2021  \n",
       "1                        2024  \n",
       "2                        2022  \n",
       "3                        2024  \n",
       "4                        2023  "
      ]
     },
     "execution_count": 9,
     "metadata": {},
     "output_type": "execute_result"
    }
   ],
   "source": [
    "df2.head()"
   ]
  },
  {
   "cell_type": "markdown",
   "id": "84e47226",
   "metadata": {},
   "source": [
    "# Data Cleaning"
   ]
  },
  {
   "cell_type": "code",
   "execution_count": 10,
   "id": "743f6f4a",
   "metadata": {},
   "outputs": [
    {
     "data": {
      "text/plain": [
       "Python (out of 3)                                 0\n",
       "Machine Learning (out of 3)                       0\n",
       "Natural Language Processing (NLP) (out of 3)      0\n",
       "Deep Learning (out of 3)                          0\n",
       "Other skills                                     66\n",
       "Degree                                           43\n",
       "Stream                                          170\n",
       "Current Year Of Graduation                        0\n",
       "dtype: int64"
      ]
     },
     "execution_count": 10,
     "metadata": {},
     "output_type": "execute_result"
    }
   ],
   "source": [
    "df2.isnull().sum()"
   ]
  },
  {
   "cell_type": "code",
   "execution_count": 11,
   "id": "9ce49475",
   "metadata": {},
   "outputs": [],
   "source": [
    "df2=df2.ffill()"
   ]
  },
  {
   "cell_type": "code",
   "execution_count": 12,
   "id": "d4e0ccfd",
   "metadata": {
    "scrolled": true
   },
   "outputs": [
    {
     "data": {
      "text/html": [
       "<div>\n",
       "<style scoped>\n",
       "    .dataframe tbody tr th:only-of-type {\n",
       "        vertical-align: middle;\n",
       "    }\n",
       "\n",
       "    .dataframe tbody tr th {\n",
       "        vertical-align: top;\n",
       "    }\n",
       "\n",
       "    .dataframe thead th {\n",
       "        text-align: right;\n",
       "    }\n",
       "</style>\n",
       "<table border=\"1\" class=\"dataframe\">\n",
       "  <thead>\n",
       "    <tr style=\"text-align: right;\">\n",
       "      <th></th>\n",
       "      <th>Python (out of 3)</th>\n",
       "      <th>Machine Learning (out of 3)</th>\n",
       "      <th>Natural Language Processing (NLP) (out of 3)</th>\n",
       "      <th>Deep Learning (out of 3)</th>\n",
       "      <th>Other skills</th>\n",
       "      <th>Degree</th>\n",
       "      <th>Stream</th>\n",
       "      <th>Current Year Of Graduation</th>\n",
       "    </tr>\n",
       "  </thead>\n",
       "  <tbody>\n",
       "    <tr>\n",
       "      <th>0</th>\n",
       "      <td>1</td>\n",
       "      <td>0</td>\n",
       "      <td>0</td>\n",
       "      <td>1</td>\n",
       "      <td>MS-Excel, MS-Word, Deep Learning, MySQL, Pytho...</td>\n",
       "      <td>Bachelor of Vocation (B.Voc.)</td>\n",
       "      <td>Software Engineering</td>\n",
       "      <td>2021</td>\n",
       "    </tr>\n",
       "    <tr>\n",
       "      <th>1</th>\n",
       "      <td>2</td>\n",
       "      <td>0</td>\n",
       "      <td>0</td>\n",
       "      <td>0</td>\n",
       "      <td>Git, GitHub, Linux, Adobe After Effects, Adobe...</td>\n",
       "      <td>B.Tech</td>\n",
       "      <td>Computer Science &amp; Engineering</td>\n",
       "      <td>2024</td>\n",
       "    </tr>\n",
       "    <tr>\n",
       "      <th>2</th>\n",
       "      <td>2</td>\n",
       "      <td>2</td>\n",
       "      <td>0</td>\n",
       "      <td>0</td>\n",
       "      <td>Amazon Web Services (AWS), Docker, Hadoop, MS-...</td>\n",
       "      <td>Master of Science (M.S.)</td>\n",
       "      <td>Data Science And Analytics</td>\n",
       "      <td>2022</td>\n",
       "    </tr>\n",
       "    <tr>\n",
       "      <th>3</th>\n",
       "      <td>3</td>\n",
       "      <td>2</td>\n",
       "      <td>2</td>\n",
       "      <td>0</td>\n",
       "      <td>Adobe XD, BIG DATA ANALYTICS, Canva, Data Anal...</td>\n",
       "      <td>Bachelor of Engineering (B.E)</td>\n",
       "      <td>Data Science And Analytics</td>\n",
       "      <td>2024</td>\n",
       "    </tr>\n",
       "    <tr>\n",
       "      <th>4</th>\n",
       "      <td>2</td>\n",
       "      <td>2</td>\n",
       "      <td>0</td>\n",
       "      <td>0</td>\n",
       "      <td>C++ Programming, Data Science, Machine Learnin...</td>\n",
       "      <td>B.Tech</td>\n",
       "      <td>Computer Science</td>\n",
       "      <td>2023</td>\n",
       "    </tr>\n",
       "  </tbody>\n",
       "</table>\n",
       "</div>"
      ],
      "text/plain": [
       "   Python (out of 3)  Machine Learning (out of 3)  \\\n",
       "0                  1                            0   \n",
       "1                  2                            0   \n",
       "2                  2                            2   \n",
       "3                  3                            2   \n",
       "4                  2                            2   \n",
       "\n",
       "   Natural Language Processing (NLP) (out of 3)  Deep Learning (out of 3)  \\\n",
       "0                                             0                         1   \n",
       "1                                             0                         0   \n",
       "2                                             0                         0   \n",
       "3                                             2                         0   \n",
       "4                                             0                         0   \n",
       "\n",
       "                                        Other skills  \\\n",
       "0  MS-Excel, MS-Word, Deep Learning, MySQL, Pytho...   \n",
       "1  Git, GitHub, Linux, Adobe After Effects, Adobe...   \n",
       "2  Amazon Web Services (AWS), Docker, Hadoop, MS-...   \n",
       "3  Adobe XD, BIG DATA ANALYTICS, Canva, Data Anal...   \n",
       "4  C++ Programming, Data Science, Machine Learnin...   \n",
       "\n",
       "                          Degree                          Stream  \\\n",
       "0  Bachelor of Vocation (B.Voc.)            Software Engineering   \n",
       "1                         B.Tech  Computer Science & Engineering   \n",
       "2       Master of Science (M.S.)      Data Science And Analytics   \n",
       "3  Bachelor of Engineering (B.E)      Data Science And Analytics   \n",
       "4                         B.Tech                Computer Science   \n",
       "\n",
       "   Current Year Of Graduation  \n",
       "0                        2021  \n",
       "1                        2024  \n",
       "2                        2022  \n",
       "3                        2024  \n",
       "4                        2023  "
      ]
     },
     "execution_count": 12,
     "metadata": {},
     "output_type": "execute_result"
    }
   ],
   "source": [
    "df2.head()"
   ]
  },
  {
   "cell_type": "code",
   "execution_count": 13,
   "id": "9831f360",
   "metadata": {},
   "outputs": [
    {
     "data": {
      "text/plain": [
       "Python (out of 3)                               0\n",
       "Machine Learning (out of 3)                     0\n",
       "Natural Language Processing (NLP) (out of 3)    0\n",
       "Deep Learning (out of 3)                        0\n",
       "Other skills                                    0\n",
       "Degree                                          0\n",
       "Stream                                          0\n",
       "Current Year Of Graduation                      0\n",
       "dtype: int64"
      ]
     },
     "execution_count": 13,
     "metadata": {},
     "output_type": "execute_result"
    }
   ],
   "source": [
    "df2.isnull().sum()"
   ]
  },
  {
   "cell_type": "markdown",
   "id": "8a581bb8",
   "metadata": {},
   "source": [
    "# Feature Selection"
   ]
  },
  {
   "cell_type": "code",
   "execution_count": 14,
   "id": "d2608cda",
   "metadata": {},
   "outputs": [],
   "source": [
    "import seaborn as sb"
   ]
  },
  {
   "cell_type": "code",
   "execution_count": 15,
   "id": "de3c8e07",
   "metadata": {},
   "outputs": [
    {
     "name": "stderr",
     "output_type": "stream",
     "text": [
      "C:\\Users\\Admin\\AppData\\Local\\Temp\\ipykernel_4276\\787630628.py:1: FutureWarning: The default value of numeric_only in DataFrame.corr is deprecated. In a future version, it will default to False. Select only valid columns or specify the value of numeric_only to silence this warning.\n",
      "  sb.heatmap(df2.corr(),annot=True)\n"
     ]
    },
    {
     "data": {
      "text/plain": [
       "<Axes: >"
      ]
     },
     "execution_count": 15,
     "metadata": {},
     "output_type": "execute_result"
    },
    {
     "data": {
      "image/png": "[encoded data removed]",
      "text/plain": [
       "<Figure size 640x480 with 2 Axes>"
      ]
     },
     "metadata": {},
     "output_type": "display_data"
    }
   ],
   "source": [
    "sb.heatmap(df2.corr(),annot=True)"
   ]
  },
  {
   "cell_type": "markdown",
   "id": "4072bafb",
   "metadata": {},
   "source": [
    "# Convert Catorigal Data into Numaric Data"
   ]
  },
  {
   "cell_type": "code",
   "execution_count": 16,
   "id": "6b7a1e6b",
   "metadata": {},
   "outputs": [],
   "source": [
    "from sklearn.preprocessing import LabelEncoder"
   ]
  },
  {
   "cell_type": "code",
   "execution_count": 17,
   "id": "c4c0cbf3",
   "metadata": {},
   "outputs": [],
   "source": [
    "label_encoder = LabelEncoder()"
   ]
  },
  {
   "cell_type": "code",
   "execution_count": 18,
   "id": "c5fc0d58",
   "metadata": {},
   "outputs": [],
   "source": [
    "categorical_columns=['Other skills','Degree','Stream']"
   ]
  },
  {
   "cell_type": "code",
   "execution_count": 19,
   "id": "0eb3e571",
   "metadata": {},
   "outputs": [],
   "source": [
    "for col in categorical_columns:\n",
    "    df2[col] = label_encoder.fit_transform(df2[col])"
   ]
  },
  {
   "cell_type": "code",
   "execution_count": 21,
   "id": "135f630c",
   "metadata": {},
   "outputs": [],
   "source": [
    "x=df2.drop(columns=['Current Year Of Graduation'])"
   ]
  },
  {
   "cell_type": "code",
   "execution_count": 22,
   "id": "deff24a7",
   "metadata": {},
   "outputs": [],
   "source": [
    "y=df2['Current Year Of Graduation']"
   ]
  },
  {
   "cell_type": "markdown",
   "id": "a60a8d03",
   "metadata": {},
   "source": [
    "# Split Data X and Y"
   ]
  },
  {
   "cell_type": "code",
   "execution_count": 23,
   "id": "6575946f",
   "metadata": {},
   "outputs": [
    {
     "data": {
      "text/html": [
       "<div>\n",
       "<style scoped>\n",
       "    .dataframe tbody tr th:only-of-type {\n",
       "        vertical-align: middle;\n",
       "    }\n",
       "\n",
       "    .dataframe tbody tr th {\n",
       "        vertical-align: top;\n",
       "    }\n",
       "\n",
       "    .dataframe thead th {\n",
       "        text-align: right;\n",
       "    }\n",
       "</style>\n",
       "<table border=\"1\" class=\"dataframe\">\n",
       "  <thead>\n",
       "    <tr style=\"text-align: right;\">\n",
       "      <th></th>\n",
       "      <th>Python (out of 3)</th>\n",
       "      <th>Machine Learning (out of 3)</th>\n",
       "      <th>Natural Language Processing (NLP) (out of 3)</th>\n",
       "      <th>Deep Learning (out of 3)</th>\n",
       "      <th>Other skills</th>\n",
       "      <th>Degree</th>\n",
       "      <th>Stream</th>\n",
       "    </tr>\n",
       "  </thead>\n",
       "  <tbody>\n",
       "    <tr>\n",
       "      <th>0</th>\n",
       "      <td>1</td>\n",
       "      <td>0</td>\n",
       "      <td>0</td>\n",
       "      <td>1</td>\n",
       "      <td>870</td>\n",
       "      <td>35</td>\n",
       "      <td>174</td>\n",
       "    </tr>\n",
       "    <tr>\n",
       "      <th>1</th>\n",
       "      <td>2</td>\n",
       "      <td>0</td>\n",
       "      <td>0</td>\n",
       "      <td>0</td>\n",
       "      <td>754</td>\n",
       "      <td>6</td>\n",
       "      <td>69</td>\n",
       "    </tr>\n",
       "    <tr>\n",
       "      <th>2</th>\n",
       "      <td>2</td>\n",
       "      <td>2</td>\n",
       "      <td>0</td>\n",
       "      <td>0</td>\n",
       "      <td>69</td>\n",
       "      <td>75</td>\n",
       "      <td>101</td>\n",
       "    </tr>\n",
       "    <tr>\n",
       "      <th>3</th>\n",
       "      <td>3</td>\n",
       "      <td>2</td>\n",
       "      <td>2</td>\n",
       "      <td>0</td>\n",
       "      <td>23</td>\n",
       "      <td>28</td>\n",
       "      <td>101</td>\n",
       "    </tr>\n",
       "    <tr>\n",
       "      <th>4</th>\n",
       "      <td>2</td>\n",
       "      <td>2</td>\n",
       "      <td>0</td>\n",
       "      <td>0</td>\n",
       "      <td>317</td>\n",
       "      <td>6</td>\n",
       "      <td>68</td>\n",
       "    </tr>\n",
       "    <tr>\n",
       "      <th>...</th>\n",
       "      <td>...</td>\n",
       "      <td>...</td>\n",
       "      <td>...</td>\n",
       "      <td>...</td>\n",
       "      <td>...</td>\n",
       "      <td>...</td>\n",
       "      <td>...</td>\n",
       "    </tr>\n",
       "    <tr>\n",
       "      <th>1131</th>\n",
       "      <td>2</td>\n",
       "      <td>2</td>\n",
       "      <td>0</td>\n",
       "      <td>2</td>\n",
       "      <td>442</td>\n",
       "      <td>6</td>\n",
       "      <td>152</td>\n",
       "    </tr>\n",
       "    <tr>\n",
       "      <th>1132</th>\n",
       "      <td>3</td>\n",
       "      <td>3</td>\n",
       "      <td>2</td>\n",
       "      <td>3</td>\n",
       "      <td>619</td>\n",
       "      <td>6</td>\n",
       "      <td>69</td>\n",
       "    </tr>\n",
       "    <tr>\n",
       "      <th>1133</th>\n",
       "      <td>3</td>\n",
       "      <td>1</td>\n",
       "      <td>3</td>\n",
       "      <td>3</td>\n",
       "      <td>551</td>\n",
       "      <td>6</td>\n",
       "      <td>120</td>\n",
       "    </tr>\n",
       "    <tr>\n",
       "      <th>1134</th>\n",
       "      <td>2</td>\n",
       "      <td>1</td>\n",
       "      <td>0</td>\n",
       "      <td>0</td>\n",
       "      <td>1022</td>\n",
       "      <td>6</td>\n",
       "      <td>68</td>\n",
       "    </tr>\n",
       "    <tr>\n",
       "      <th>1135</th>\n",
       "      <td>2</td>\n",
       "      <td>0</td>\n",
       "      <td>0</td>\n",
       "      <td>0</td>\n",
       "      <td>323</td>\n",
       "      <td>6</td>\n",
       "      <td>124</td>\n",
       "    </tr>\n",
       "  </tbody>\n",
       "</table>\n",
       "<p>1136 rows × 7 columns</p>\n",
       "</div>"
      ],
      "text/plain": [
       "      Python (out of 3)  Machine Learning (out of 3)  \\\n",
       "0                     1                            0   \n",
       "1                     2                            0   \n",
       "2                     2                            2   \n",
       "3                     3                            2   \n",
       "4                     2                            2   \n",
       "...                 ...                          ...   \n",
       "1131                  2                            2   \n",
       "1132                  3                            3   \n",
       "1133                  3                            1   \n",
       "1134                  2                            1   \n",
       "1135                  2                            0   \n",
       "\n",
       "      Natural Language Processing (NLP) (out of 3)  Deep Learning (out of 3)  \\\n",
       "0                                                0                         1   \n",
       "1                                                0                         0   \n",
       "2                                                0                         0   \n",
       "3                                                2                         0   \n",
       "4                                                0                         0   \n",
       "...                                            ...                       ...   \n",
       "1131                                             0                         2   \n",
       "1132                                             2                         3   \n",
       "1133                                             3                         3   \n",
       "1134                                             0                         0   \n",
       "1135                                             0                         0   \n",
       "\n",
       "      Other skills  Degree  Stream  \n",
       "0              870      35     174  \n",
       "1              754       6      69  \n",
       "2               69      75     101  \n",
       "3               23      28     101  \n",
       "4              317       6      68  \n",
       "...            ...     ...     ...  \n",
       "1131           442       6     152  \n",
       "1132           619       6      69  \n",
       "1133           551       6     120  \n",
       "1134          1022       6      68  \n",
       "1135           323       6     124  \n",
       "\n",
       "[1136 rows x 7 columns]"
      ]
     },
     "execution_count": 23,
     "metadata": {},
     "output_type": "execute_result"
    }
   ],
   "source": [
    "x"
   ]
  },
  {
   "cell_type": "code",
   "execution_count": 24,
   "id": "85d54239",
   "metadata": {},
   "outputs": [
    {
     "data": {
      "text/plain": [
       "0       2021\n",
       "1       2024\n",
       "2       2022\n",
       "3       2024\n",
       "4       2023\n",
       "        ... \n",
       "1131    2021\n",
       "1132    2024\n",
       "1133    2025\n",
       "1134    2024\n",
       "1135    2024\n",
       "Name: Current Year Of Graduation, Length: 1136, dtype: int64"
      ]
     },
     "execution_count": 24,
     "metadata": {},
     "output_type": "execute_result"
    }
   ],
   "source": [
    "y"
   ]
  },
  {
   "cell_type": "markdown",
   "id": "25fbf98f",
   "metadata": {},
   "source": [
    "# Split Data Traning and Testing"
   ]
  },
  {
   "cell_type": "code",
   "execution_count": 25,
   "id": "98177cc6",
   "metadata": {},
   "outputs": [],
   "source": [
    "from sklearn.model_selection import train_test_split"
   ]
  },
  {
   "cell_type": "code",
   "execution_count": 26,
   "id": "abbc0ec0",
   "metadata": {},
   "outputs": [],
   "source": [
    "x_train,x_test,y_train,y_test=train_test_split(x,y,test_size=0.2,random_state=42)"
   ]
  },
  {
   "cell_type": "markdown",
   "id": "4f1a4d7d",
   "metadata": {},
   "source": [
    "# Choose a Machine Learning Algorithm"
   ]
  },
  {
   "cell_type": "code",
   "execution_count": 27,
   "id": "a5d4d8bf",
   "metadata": {},
   "outputs": [],
   "source": [
    "from sklearn.ensemble import RandomForestClassifier"
   ]
  },
  {
   "cell_type": "code",
   "execution_count": 28,
   "id": "f7586339",
   "metadata": {},
   "outputs": [],
   "source": [
    "model = RandomForestClassifier(criterion='entropy',n_estimators=50,random_state=10)"
   ]
  },
  {
   "cell_type": "code",
   "execution_count": 30,
   "id": "e9744255",
   "metadata": {},
   "outputs": [
    {
     "data": {
      "text/html": [
       "<style>#sk-container-id-1 {color: black;background-color: white;}#sk-container-id-1 pre{padding: 0;}#sk-container-id-1 div.sk-toggleable {background-color: white;}#sk-container-id-1 label.sk-toggleable__label {cursor: pointer;display: block;width: 100%;margin-bottom: 0;padding: 0.3em;box-sizing: border-box;text-align: center;}#sk-container-id-1 label.sk-toggleable__label-arrow:before {content: \"▸\";float: left;margin-right: 0.25em;color: #696969;}#sk-container-id-1 label.sk-toggleable__label-arrow:hover:before {color: black;}#sk-container-id-1 div.sk-estimator:hover label.sk-toggleable__label-arrow:before {color: black;}#sk-container-id-1 div.sk-toggleable__content {max-height: 0;max-width: 0;overflow: hidden;text-align: left;background-color: #f0f8ff;}#sk-container-id-1 div.sk-toggleable__content pre {margin: 0.2em;color: black;border-radius: 0.25em;background-color: #f0f8ff;}#sk-container-id-1 input.sk-toggleable__control:checked~div.sk-toggleable__content {max-height: 200px;max-width: 100%;overflow: auto;}#sk-container-id-1 input.sk-toggleable__control:checked~label.sk-toggleable__label-arrow:before {content: \"▾\";}#sk-container-id-1 div.sk-estimator input.sk-toggleable__control:checked~label.sk-toggleable__label {background-color: #d4ebff;}#sk-container-id-1 div.sk-label input.sk-toggleable__control:checked~label.sk-toggleable__label {background-color: #d4ebff;}#sk-container-id-1 input.sk-hidden--visually {border: 0;clip: rect(1px 1px 1px 1px);clip: rect(1px, 1px, 1px, 1px);height: 1px;margin: -1px;overflow: hidden;padding: 0;position: absolute;width: 1px;}#sk-container-id-1 div.sk-estimator {font-family: monospace;background-color: #f0f8ff;border: 1px dotted black;border-radius: 0.25em;box-sizing: border-box;margin-bottom: 0.5em;}#sk-container-id-1 div.sk-estimator:hover {background-color: #d4ebff;}#sk-container-id-1 div.sk-parallel-item::after {content: \"\";width: 100%;border-bottom: 1px solid gray;flex-grow: 1;}#sk-container-id-1 div.sk-label:hover label.sk-toggleable__label {background-color: #d4ebff;}#sk-container-id-1 div.sk-serial::before {content: \"\";position: absolute;border-left: 1px solid gray;box-sizing: border-box;top: 0;bottom: 0;left: 50%;z-index: 0;}#sk-container-id-1 div.sk-serial {display: flex;flex-direction: column;align-items: center;background-color: white;padding-right: 0.2em;padding-left: 0.2em;position: relative;}#sk-container-id-1 div.sk-item {position: relative;z-index: 1;}#sk-container-id-1 div.sk-parallel {display: flex;align-items: stretch;justify-content: center;background-color: white;position: relative;}#sk-container-id-1 div.sk-item::before, #sk-container-id-1 div.sk-parallel-item::before {content: \"\";position: absolute;border-left: 1px solid gray;box-sizing: border-box;top: 0;bottom: 0;left: 50%;z-index: -1;}#sk-container-id-1 div.sk-parallel-item {display: flex;flex-direction: column;z-index: 1;position: relative;background-color: white;}#sk-container-id-1 div.sk-parallel-item:first-child::after {align-self: flex-end;width: 50%;}#sk-container-id-1 div.sk-parallel-item:last-child::after {align-self: flex-start;width: 50%;}#sk-container-id-1 div.sk-parallel-item:only-child::after {width: 0;}#sk-container-id-1 div.sk-dashed-wrapped {border: 1px dashed gray;margin: 0 0.4em 0.5em 0.4em;box-sizing: border-box;padding-bottom: 0.4em;background-color: white;}#sk-container-id-1 div.sk-label label {font-family: monospace;font-weight: bold;display: inline-block;line-height: 1.2em;}#sk-container-id-1 div.sk-label-container {text-align: center;}#sk-container-id-1 div.sk-container {/* jupyter's `normalize.less` sets `[hidden] { display: none; }` but bootstrap.min.css set `[hidden] { display: none !important; }` so we also need the `!important` here to be able to override the default hidden behavior on the sphinx rendered scikit-learn.org. See: https://github.com/scikit-learn/scikit-learn/issues/21755 */display: inline-block !important;position: relative;}#sk-container-id-1 div.sk-text-repr-fallback {display: none;}</style><div id=\"sk-container-id-1\" class=\"sk-top-container\"><div class=\"sk-text-repr-fallback\"><pre>RandomForestClassifier(criterion=&#x27;entropy&#x27;, n_estimators=50, random_state=10)</pre><b>In a Jupyter environment, please rerun this cell to show the HTML representation or trust the notebook. <br />On GitHub, the HTML representation is unable to render, please try loading this page with nbviewer.org.</b></div><div class=\"sk-container\" hidden><div class=\"sk-item\"><div class=\"sk-estimator sk-toggleable\"><input class=\"sk-toggleable__control sk-hidden--visually\" id=\"sk-estimator-id-1\" type=\"checkbox\" checked><label for=\"sk-estimator-id-1\" class=\"sk-toggleable__label sk-toggleable__label-arrow\">RandomForestClassifier</label><div class=\"sk-toggleable__content\"><pre>RandomForestClassifier(criterion=&#x27;entropy&#x27;, n_estimators=50, random_state=10)</pre></div></div></div></div></div>"
      ],
      "text/plain": [
       "RandomForestClassifier(criterion='entropy', n_estimators=50, random_state=10)"
      ]
     },
     "execution_count": 30,
     "metadata": {},
     "output_type": "execute_result"
    }
   ],
   "source": [
    "model.fit(x_train, y_train)"
   ]
  },
  {
   "cell_type": "markdown",
   "id": "cce912f4",
   "metadata": {},
   "source": [
    "# Make Prediction"
   ]
  },
  {
   "cell_type": "code",
   "execution_count": 31,
   "id": "b4a75ba0",
   "metadata": {},
   "outputs": [],
   "source": [
    "from sklearn.metrics import accuracy_score\n",
    "y_pred=model.predict(x_test)"
   ]
  },
  {
   "cell_type": "code",
   "execution_count": 32,
   "id": "fa781c70",
   "metadata": {},
   "outputs": [
    {
     "name": "stdout",
     "output_type": "stream",
     "text": [
      "Percentage Accuracy: 41.228070175438596\n"
     ]
    }
   ],
   "source": [
    "print('Percentage Accuracy:',100*accuracy_score(y_test,y_pred))"
   ]
  },
  {
   "cell_type": "code",
   "execution_count": 37,
   "id": "80c3d4a5",
   "metadata": {},
   "outputs": [
    {
     "data": {
      "image/png": "[encoded data removed]",
      "text/plain": [
       "<Figure size 640x480 with 1 Axes>"
      ]
     },
     "metadata": {},
     "output_type": "display_data"
    }
   ],
   "source": [
    "import matplotlib.pyplot as plt\n",
    "\n",
    "# Assuming 'y_test' contains the actual target values and 'y_pred' contains the predicted values\n",
    "\n",
    "# Create a scatter plot of actual vs predicted values\n",
    "plt.scatter (y_test, y_pred)\n",
    "plt.xlabel('Actual Values')\n",
    "plt.ylabel('Predicted Values')\n",
    "plt.title('Actual vs Predicted Values')\n",
    "plt.show()"
   ]
  },
  {
   "cell_type": "code",
   "execution_count": null,
   "id": "b3503897",
   "metadata": {},
   "outputs": [],
   "source": []
  }
 ],
 "metadata": {
  "kernelspec": {
   "display_name": "Python 3 (ipykernel)",
   "language": "python",
   "name": "python3"
  },
  "language_info": {
   "codemirror_mode": {
    "name": "ipython",
    "version": 3
   },
   "file_extension": ".py",
   "mimetype": "text/x-python",
   "name": "python",
   "nbconvert_exporter": "python",
   "pygments_lexer": "ipython3",
   "version": "3.10.9"
  }
 },
 "nbformat": 4,
 "nbformat_minor": 5
}

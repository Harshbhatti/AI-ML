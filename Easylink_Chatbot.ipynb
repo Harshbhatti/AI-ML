{
 "cells": [
  {
   "cell_type": "markdown",
   "id": "4ec2a23e-19d3-4638-bfc8-ea0553b5d4e5",
   "metadata": {},
   "source": [
    "# Chatbot Flask API"
   ]
  },
  {
   "cell_type": "code",
   "execution_count": null,
   "id": "bbe1ef55-237c-4f41-a8a0-de289f97f334",
   "metadata": {},
   "outputs": [
    {
     "name": "stdout",
     "output_type": "stream",
     "text": [
      " * Serving Flask app '__main__'\n",
      " * Debug mode: on\n"
     ]
    },
    {
     "name": "stderr",
     "output_type": "stream",
     "text": [
      "WARNING: This is a development server. Do not use it in a production deployment. Use a production WSGI server instead.\n",
      " * Running on http://127.0.0.1:4000\n",
      "Press CTRL+C to quit\n",
      "127.0.0.1 - - [11/Nov/2024 01:33:57] \"GET / HTTP/1.1\" 404 -\n"
     ]
    }
   ],
   "source": [
    "from flask import Flask, jsonify, request\n",
    "import torch\n",
    "from transformers import AutoModelForCausalLM, AutoTokenizer\n",
    "\n",
    "app = Flask(__name__)\n",
    "\n",
    "# Initialize model and tokenizer with the medium model for faster responses\n",
    "model_name = \"microsoft/DialoGPT-medium\"\n",
    "tokenizer = AutoTokenizer.from_pretrained(model_name)\n",
    "model = AutoModelForCausalLM.from_pretrained(model_name)\n",
    "\n",
    "# Add padding token if missing\n",
    "if tokenizer.pad_token is None:\n",
    "    tokenizer.pad_token = tokenizer.eos_token\n",
    "\n",
    "# Move model to GPU if available\n",
    "device = torch.device(\"cuda\" if torch.cuda.is_available() else \"cpu\")\n",
    "model = model.to(device)\n",
    "\n",
    "# Predefined responses with links\n",
    "predefined_responses = {\n",
    "    \"services\": \"At Easy Link Web & IT Solutions, we offer services like web design & development, digital marketing, Google Workspace, cloud hosting, and cybersecurity.\",\n",
    "    \"web design\": \"Our web design services include both frontend and backend development. Learn more here: https://www.easylinkindia.com/web-design.php\",\n",
    "    \"digital marketing\": \"We provide digital marketing solutions to boost your brand. Visit: https://www.easylinkindia.com/digital-marketing.php\",\n",
    "    \"google workspace\": \"We are certified in Google Workspace deployment. More details: https://www.easylinkindia.com/workspace.php\",\n",
    "    \"cloud hosting\": \"Our cloud hosting solutions are secure and scalable. Check here: https://www.easylinkindia.com/cloud-hosting-and-storage.php\",\n",
    "    \"cybersecurity\": \"We offer comprehensive cybersecurity services. Find out more: https://www.easylinkindia.com/cybersecurity.php\",\n",
    "    \"ecommerce solutions\": \"We provide end-to-end eCommerce solutions, from setup to optimization, ensuring a smooth user experience. More info: https://www.easylinkindia.com/ecommerce.php\",\n",
    "    \"mobile apps\": \"We develop mobile and web-based applications tailored to meet specific business needs. Visit: https://www.easylinkindia.com/mobile-app.php\",\n",
    "    \"seo services\": \"We provide SEO and SEM services to improve your website’s visibility and search rankings. Details here: https://www.easylinkindia.com/seo.php\",\n",
    "    \"content marketing\": \"Our content marketing services help in creating engaging content to enhance brand presence. Learn more: https://www.easylinkindia.com/content-marketing.php\",\n",
    "    \"contact\": \"Contact us at WorkFlo Greeta Towers, Industrial Estate, Perungudi, OMR Phase 1, Chennai, Tamil Nadu - 600096. Call +91 9585182141 or email info@easylinkindia.com.\"\n",
    "}\n",
    "\n",
    "# Mapping number inputs to keywords\n",
    "number_to_keyword = {\n",
    "    \"1\": \"services\",\n",
    "    \"2\": \"web design\",\n",
    "    \"3\": \"google workspace\",\n",
    "    \"4\": \"cloud hosting\",\n",
    "    \"5\": \"contact\",\n",
    "    \"6\": \"ecommerce solutions\",\n",
    "    \"7\": \"mobile apps\",\n",
    "    \"8\": \"seo services\",\n",
    "    \"9\": \"content marketing\",\n",
    "    \"10\": \"cybersecurity\"\n",
    "}\n",
    "\n",
    "# Generate response function\n",
    "def generate_response(user_input):\n",
    "    # Check for predefined responses\n",
    "    for keyword, response in predefined_responses.items():\n",
    "        if keyword in user_input.lower():\n",
    "            return response\n",
    "    \n",
    "    # Generate custom response\n",
    "    inputs = tokenizer.encode(user_input + tokenizer.eos_token, return_tensors=\"pt\").to(device)\n",
    "    attention_mask = torch.ones(inputs.shape, device=device)  # Added attention mask to avoid warnings\n",
    "    reply_ids = model.generate(\n",
    "        inputs,\n",
    "        attention_mask=attention_mask,  # Pass attention mask for reliable behavior\n",
    "        max_length=150,\n",
    "        pad_token_id=tokenizer.eos_token_id,\n",
    "        temperature=0.4,\n",
    "        top_k=50,\n",
    "        do_sample=True\n",
    "    )\n",
    "    return tokenizer.decode(reply_ids[:, inputs.shape[-1]:][0], skip_special_tokens=True)\n",
    "\n",
    "@app.route(\"/question\", methods=[\"GET\"])\n",
    "def get_question():\n",
    "    user_input = request.args.get(\"query\")\n",
    "    if user_input:\n",
    "        if user_input.isdigit() and user_input in number_to_keyword:\n",
    "            keyword = number_to_keyword[user_input]\n",
    "            return jsonify({\"response\": predefined_responses[keyword]})\n",
    "        else:\n",
    "            return jsonify({\"response\": generate_response(user_input)})\n",
    "    else:\n",
    "        return jsonify({\"error\": \"No query parameter provided\"}), 400\n",
    "\n",
    "@app.route(\"/test\", methods=[\"GET\"])\n",
    "def test():\n",
    "    return jsonify({\"status\": \"Flask app is running\"})\n",
    "\n",
    "if __name__ == \"__main__\":\n",
    "    app.run(port=4000, debug=True, use_reloader=False)"
   ]
  },
  {
   "cell_type": "code",
   "execution_count": null,
   "id": "63dfb029-c273-43ca-9e13-2e77f3fb1c81",
   "metadata": {},
   "outputs": [],
   "source": []
  }
 ],
 "metadata": {
  "kernelspec": {
   "display_name": "Python 3 (ipykernel)",
   "language": "python",
   "name": "python3"
  },
  "language_info": {
   "codemirror_mode": {
    "name": "ipython",
    "version": 3
   },
   "file_extension": ".py",
   "mimetype": "text/x-python",
   "name": "python",
   "nbconvert_exporter": "python",
   "pygments_lexer": "ipython3",
   "version": "3.12.4"
  }
 },
 "nbformat": 4,
 "nbformat_minor": 5
}

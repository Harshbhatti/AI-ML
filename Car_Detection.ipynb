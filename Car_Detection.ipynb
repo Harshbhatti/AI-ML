{
 "cells": [
  {
   "cell_type": "code",
   "execution_count": 4,
   "id": "5e65cddd",
   "metadata": {},
   "outputs": [],
   "source": [
    "import cv2"
   ]
  },
  {
   "cell_type": "code",
   "execution_count": 5,
   "id": "956e08ba",
   "metadata": {},
   "outputs": [
    {
     "name": "stdout",
     "output_type": "stream",
     "text": [
      "Project Topic: Vechicle Classification\n"
     ]
    }
   ],
   "source": [
    "print('Project Topic: Vechicle Classification')\n",
    "cascade_src='cars.xml'\n",
    "video_src='video.avi'\n",
    "cap=cv2.VideoCapture(video_src)\n",
    "car_cascade=cv2.CascadeClassifier(cascade_src)\n",
    "\n",
    "while(True):\n",
    "    ret,img=cap.read()\n",
    "    \n",
    "    if(type(img)==type(None)):\n",
    "        break\n",
    "    gray=cv2.cvtColor(img,cv2.COLOR_BGR2GRAY)\n",
    "    \n",
    "    cars=car_cascade.detecMultiScale(gray)\n",
    "    \n",
    "    for (x,y,w,h) in cares:\n",
    "        cv2.rectangle(img,(x,y),(x+w,y+h),(0,255,255),2)\n",
    "        \n",
    "        cv2.imshow('video',img)\n",
    "        \n",
    "        if cv2.waitKey(33)==27:\n",
    "            break\n",
    "            \n",
    "cv2.destroyAllWindows()"
   ]
  },
  {
   "cell_type": "code",
   "execution_count": null,
   "id": "071fe31f",
   "metadata": {},
   "outputs": [],
   "source": []
  }
 ],
 "metadata": {
  "kernelspec": {
   "display_name": "Python 3 (ipykernel)",
   "language": "python",
   "name": "python3"
  },
  "language_info": {
   "codemirror_mode": {
    "name": "ipython",
    "version": 3
   },
   "file_extension": ".py",
   "mimetype": "text/x-python",
   "name": "python",
   "nbconvert_exporter": "python",
   "pygments_lexer": "ipython3",
   "version": "3.10.9"
  }
 },
 "nbformat": 4,
 "nbformat_minor": 5
}

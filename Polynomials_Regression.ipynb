{
 "cells": [
  {
   "cell_type": "markdown",
   "id": "ff7735d8",
   "metadata": {},
   "source": [
    "# Polynomials Regression "
   ]
  },
  {
   "cell_type": "code",
   "execution_count": 125,
   "id": "372280c7",
   "metadata": {},
   "outputs": [],
   "source": [
    "import numpy as np\n",
    "import pandas as pd\n",
    "import matplotlib.pyplot as plt"
   ]
  },
  {
   "cell_type": "code",
   "execution_count": 126,
   "id": "765b47cb",
   "metadata": {},
   "outputs": [],
   "source": [
    "data=pd.read_csv('Height_Weight_Dataset.csv')"
   ]
  },
  {
   "cell_type": "code",
   "execution_count": 127,
   "id": "ad581d60",
   "metadata": {},
   "outputs": [
    {
     "data": {
      "text/html": [
       "<div>\n",
       "<style scoped>\n",
       "    .dataframe tbody tr th:only-of-type {\n",
       "        vertical-align: middle;\n",
       "    }\n",
       "\n",
       "    .dataframe tbody tr th {\n",
       "        vertical-align: top;\n",
       "    }\n",
       "\n",
       "    .dataframe thead th {\n",
       "        text-align: right;\n",
       "    }\n",
       "</style>\n",
       "<table border=\"1\" class=\"dataframe\">\n",
       "  <thead>\n",
       "    <tr style=\"text-align: right;\">\n",
       "      <th></th>\n",
       "      <th>Age</th>\n",
       "      <th>Height</th>\n",
       "    </tr>\n",
       "  </thead>\n",
       "  <tbody>\n",
       "    <tr>\n",
       "      <th>0</th>\n",
       "      <td>10</td>\n",
       "      <td>138</td>\n",
       "    </tr>\n",
       "    <tr>\n",
       "      <th>1</th>\n",
       "      <td>11</td>\n",
       "      <td>138</td>\n",
       "    </tr>\n",
       "    <tr>\n",
       "      <th>2</th>\n",
       "      <td>12</td>\n",
       "      <td>138</td>\n",
       "    </tr>\n",
       "    <tr>\n",
       "      <th>3</th>\n",
       "      <td>13</td>\n",
       "      <td>139</td>\n",
       "    </tr>\n",
       "    <tr>\n",
       "      <th>4</th>\n",
       "      <td>14</td>\n",
       "      <td>139</td>\n",
       "    </tr>\n",
       "    <tr>\n",
       "      <th>...</th>\n",
       "      <td>...</td>\n",
       "      <td>...</td>\n",
       "    </tr>\n",
       "    <tr>\n",
       "      <th>66</th>\n",
       "      <td>76</td>\n",
       "      <td>204</td>\n",
       "    </tr>\n",
       "    <tr>\n",
       "      <th>67</th>\n",
       "      <td>77</td>\n",
       "      <td>205</td>\n",
       "    </tr>\n",
       "    <tr>\n",
       "      <th>68</th>\n",
       "      <td>78</td>\n",
       "      <td>206</td>\n",
       "    </tr>\n",
       "    <tr>\n",
       "      <th>69</th>\n",
       "      <td>79</td>\n",
       "      <td>207</td>\n",
       "    </tr>\n",
       "    <tr>\n",
       "      <th>70</th>\n",
       "      <td>80</td>\n",
       "      <td>208</td>\n",
       "    </tr>\n",
       "  </tbody>\n",
       "</table>\n",
       "<p>71 rows × 2 columns</p>\n",
       "</div>"
      ],
      "text/plain": [
       "    Age  Height\n",
       "0    10     138\n",
       "1    11     138\n",
       "2    12     138\n",
       "3    13     139\n",
       "4    14     139\n",
       "..  ...     ...\n",
       "66   76     204\n",
       "67   77     205\n",
       "68   78     206\n",
       "69   79     207\n",
       "70   80     208\n",
       "\n",
       "[71 rows x 2 columns]"
      ]
     },
     "execution_count": 127,
     "metadata": {},
     "output_type": "execute_result"
    }
   ],
   "source": [
    "data"
   ]
  },
  {
   "cell_type": "code",
   "execution_count": 128,
   "id": "b026f81e",
   "metadata": {},
   "outputs": [],
   "source": [
    "x=data.iloc[:,:1].values # frature 2d"
   ]
  },
  {
   "cell_type": "code",
   "execution_count": 129,
   "id": "ec44efb3",
   "metadata": {},
   "outputs": [
    {
     "data": {
      "text/plain": [
       "array([[10],\n",
       "       [11],\n",
       "       [12],\n",
       "       [13],\n",
       "       [14],\n",
       "       [15],\n",
       "       [16],\n",
       "       [17],\n",
       "       [18],\n",
       "       [19],\n",
       "       [20],\n",
       "       [21],\n",
       "       [22],\n",
       "       [23],\n",
       "       [24],\n",
       "       [25],\n",
       "       [26],\n",
       "       [27],\n",
       "       [28],\n",
       "       [29],\n",
       "       [30],\n",
       "       [31],\n",
       "       [32],\n",
       "       [33],\n",
       "       [34],\n",
       "       [35],\n",
       "       [36],\n",
       "       [37],\n",
       "       [38],\n",
       "       [39],\n",
       "       [40],\n",
       "       [41],\n",
       "       [42],\n",
       "       [43],\n",
       "       [44],\n",
       "       [45],\n",
       "       [46],\n",
       "       [47],\n",
       "       [48],\n",
       "       [49],\n",
       "       [50],\n",
       "       [51],\n",
       "       [52],\n",
       "       [53],\n",
       "       [54],\n",
       "       [55],\n",
       "       [56],\n",
       "       [57],\n",
       "       [58],\n",
       "       [59],\n",
       "       [60],\n",
       "       [61],\n",
       "       [62],\n",
       "       [63],\n",
       "       [64],\n",
       "       [65],\n",
       "       [66],\n",
       "       [67],\n",
       "       [68],\n",
       "       [69],\n",
       "       [70],\n",
       "       [71],\n",
       "       [72],\n",
       "       [73],\n",
       "       [74],\n",
       "       [75],\n",
       "       [76],\n",
       "       [77],\n",
       "       [78],\n",
       "       [79],\n",
       "       [80]], dtype=int64)"
      ]
     },
     "execution_count": 129,
     "metadata": {},
     "output_type": "execute_result"
    }
   ],
   "source": [
    "x"
   ]
  },
  {
   "cell_type": "code",
   "execution_count": 130,
   "id": "2ea6ae2a",
   "metadata": {},
   "outputs": [],
   "source": [
    "y=data.iloc[:,1].values # target 1d"
   ]
  },
  {
   "cell_type": "code",
   "execution_count": 131,
   "id": "d0b940f6",
   "metadata": {},
   "outputs": [
    {
     "data": {
      "text/plain": [
       "array([138, 138, 138, 139, 139, 139, 140, 140, 140, 141, 141, 141, 142,\n",
       "       142, 142, 143, 143, 143, 144, 144, 145, 145, 146, 146, 147, 147,\n",
       "       148, 148, 149, 149, 150, 150, 151, 152, 153, 155, 156, 157, 158,\n",
       "       159, 160, 161, 162, 163, 164, 164, 165, 166, 167, 168, 169, 170,\n",
       "       171, 172, 173, 175, 178, 180, 183, 185, 188, 190, 193, 195, 199,\n",
       "       203, 204, 205, 206, 207, 208], dtype=int64)"
      ]
     },
     "execution_count": 131,
     "metadata": {},
     "output_type": "execute_result"
    }
   ],
   "source": [
    "y"
   ]
  },
  {
   "cell_type": "markdown",
   "id": "68eaedcd",
   "metadata": {},
   "source": [
    "# Linear Regression"
   ]
  },
  {
   "cell_type": "code",
   "execution_count": 132,
   "id": "d9b2b6ce",
   "metadata": {},
   "outputs": [],
   "source": [
    "from sklearn.linear_model import LinearRegression"
   ]
  },
  {
   "cell_type": "code",
   "execution_count": 133,
   "id": "a4d4faa6",
   "metadata": {},
   "outputs": [
    {
     "data": {
      "text/plain": [
       "LinearRegression()"
      ]
     },
     "execution_count": 133,
     "metadata": {},
     "output_type": "execute_result"
    }
   ],
   "source": [
    "lin_reg=LinearRegression()\n",
    "lin_reg.fit(x,y)"
   ]
  },
  {
   "cell_type": "markdown",
   "id": "b26aa7a0",
   "metadata": {},
   "source": [
    "# Visualization linear regression result"
   ]
  },
  {
   "cell_type": "code",
   "execution_count": 134,
   "id": "81a6bc42",
   "metadata": {},
   "outputs": [
    {
     "data": {
      "image/png": "[encoded data removed]",
      "text/plain": [
       "<Figure size 432x288 with 1 Axes>"
      ]
     },
     "metadata": {
      "needs_background": "light"
     },
     "output_type": "display_data"
    }
   ],
   "source": [
    "plt.scatter(x,y,color='red')\n",
    "plt.plot(x,lin_reg.predict(x),color='blue')\n",
    "plt.title('Linear Model')\n",
    "plt.xlabel('Position Level')\n",
    "plt.ylabel('Salary')\n",
    "plt.show()"
   ]
  },
  {
   "cell_type": "markdown",
   "id": "834b44bf",
   "metadata": {},
   "source": [
    "# Prediction with linear regression"
   ]
  },
  {
   "cell_type": "code",
   "execution_count": 135,
   "id": "cdb5d96e",
   "metadata": {},
   "outputs": [
    {
     "data": {
      "text/plain": [
       "array([131.69674715])"
      ]
     },
     "execution_count": 135,
     "metadata": {},
     "output_type": "execute_result"
    }
   ],
   "source": [
    "lin_reg.predict([[14.5]])"
   ]
  },
  {
   "cell_type": "markdown",
   "id": "8249db6a",
   "metadata": {},
   "source": [
    "# Polynomial Regression"
   ]
  },
  {
   "cell_type": "code",
   "execution_count": 136,
   "id": "cad43411",
   "metadata": {},
   "outputs": [
    {
     "data": {
      "text/html": [
       "<div>\n",
       "<style scoped>\n",
       "    .dataframe tbody tr th:only-of-type {\n",
       "        vertical-align: middle;\n",
       "    }\n",
       "\n",
       "    .dataframe tbody tr th {\n",
       "        vertical-align: top;\n",
       "    }\n",
       "\n",
       "    .dataframe thead th {\n",
       "        text-align: right;\n",
       "    }\n",
       "</style>\n",
       "<table border=\"1\" class=\"dataframe\">\n",
       "  <thead>\n",
       "    <tr style=\"text-align: right;\">\n",
       "      <th></th>\n",
       "      <th>Age</th>\n",
       "      <th>Height</th>\n",
       "    </tr>\n",
       "  </thead>\n",
       "  <tbody>\n",
       "    <tr>\n",
       "      <th>0</th>\n",
       "      <td>10</td>\n",
       "      <td>138</td>\n",
       "    </tr>\n",
       "    <tr>\n",
       "      <th>1</th>\n",
       "      <td>11</td>\n",
       "      <td>138</td>\n",
       "    </tr>\n",
       "    <tr>\n",
       "      <th>2</th>\n",
       "      <td>12</td>\n",
       "      <td>138</td>\n",
       "    </tr>\n",
       "    <tr>\n",
       "      <th>3</th>\n",
       "      <td>13</td>\n",
       "      <td>139</td>\n",
       "    </tr>\n",
       "    <tr>\n",
       "      <th>4</th>\n",
       "      <td>14</td>\n",
       "      <td>139</td>\n",
       "    </tr>\n",
       "    <tr>\n",
       "      <th>...</th>\n",
       "      <td>...</td>\n",
       "      <td>...</td>\n",
       "    </tr>\n",
       "    <tr>\n",
       "      <th>66</th>\n",
       "      <td>76</td>\n",
       "      <td>204</td>\n",
       "    </tr>\n",
       "    <tr>\n",
       "      <th>67</th>\n",
       "      <td>77</td>\n",
       "      <td>205</td>\n",
       "    </tr>\n",
       "    <tr>\n",
       "      <th>68</th>\n",
       "      <td>78</td>\n",
       "      <td>206</td>\n",
       "    </tr>\n",
       "    <tr>\n",
       "      <th>69</th>\n",
       "      <td>79</td>\n",
       "      <td>207</td>\n",
       "    </tr>\n",
       "    <tr>\n",
       "      <th>70</th>\n",
       "      <td>80</td>\n",
       "      <td>208</td>\n",
       "    </tr>\n",
       "  </tbody>\n",
       "</table>\n",
       "<p>71 rows × 2 columns</p>\n",
       "</div>"
      ],
      "text/plain": [
       "    Age  Height\n",
       "0    10     138\n",
       "1    11     138\n",
       "2    12     138\n",
       "3    13     139\n",
       "4    14     139\n",
       "..  ...     ...\n",
       "66   76     204\n",
       "67   77     205\n",
       "68   78     206\n",
       "69   79     207\n",
       "70   80     208\n",
       "\n",
       "[71 rows x 2 columns]"
      ]
     },
     "execution_count": 136,
     "metadata": {},
     "output_type": "execute_result"
    }
   ],
   "source": [
    "data"
   ]
  },
  {
   "cell_type": "code",
   "execution_count": 137,
   "id": "fae208b5",
   "metadata": {},
   "outputs": [],
   "source": [
    "from sklearn.preprocessing import PolynomialFeatures"
   ]
  },
  {
   "cell_type": "markdown",
   "id": "498a5297",
   "metadata": {},
   "source": [
    "# Polynomial Visualization"
   ]
  },
  {
   "cell_type": "code",
   "execution_count": 138,
   "id": "c10bcf4c",
   "metadata": {},
   "outputs": [
    {
     "data": {
      "text/plain": [
       "array([[1.0000000e+00, 1.0000000e+01, 1.0000000e+02, 1.0000000e+03,\n",
       "        1.0000000e+04],\n",
       "       [1.0000000e+00, 1.1000000e+01, 1.2100000e+02, 1.3310000e+03,\n",
       "        1.4641000e+04],\n",
       "       [1.0000000e+00, 1.2000000e+01, 1.4400000e+02, 1.7280000e+03,\n",
       "        2.0736000e+04],\n",
       "       [1.0000000e+00, 1.3000000e+01, 1.6900000e+02, 2.1970000e+03,\n",
       "        2.8561000e+04],\n",
       "       [1.0000000e+00, 1.4000000e+01, 1.9600000e+02, 2.7440000e+03,\n",
       "        3.8416000e+04],\n",
       "       [1.0000000e+00, 1.5000000e+01, 2.2500000e+02, 3.3750000e+03,\n",
       "        5.0625000e+04],\n",
       "       [1.0000000e+00, 1.6000000e+01, 2.5600000e+02, 4.0960000e+03,\n",
       "        6.5536000e+04],\n",
       "       [1.0000000e+00, 1.7000000e+01, 2.8900000e+02, 4.9130000e+03,\n",
       "        8.3521000e+04],\n",
       "       [1.0000000e+00, 1.8000000e+01, 3.2400000e+02, 5.8320000e+03,\n",
       "        1.0497600e+05],\n",
       "       [1.0000000e+00, 1.9000000e+01, 3.6100000e+02, 6.8590000e+03,\n",
       "        1.3032100e+05],\n",
       "       [1.0000000e+00, 2.0000000e+01, 4.0000000e+02, 8.0000000e+03,\n",
       "        1.6000000e+05],\n",
       "       [1.0000000e+00, 2.1000000e+01, 4.4100000e+02, 9.2610000e+03,\n",
       "        1.9448100e+05],\n",
       "       [1.0000000e+00, 2.2000000e+01, 4.8400000e+02, 1.0648000e+04,\n",
       "        2.3425600e+05],\n",
       "       [1.0000000e+00, 2.3000000e+01, 5.2900000e+02, 1.2167000e+04,\n",
       "        2.7984100e+05],\n",
       "       [1.0000000e+00, 2.4000000e+01, 5.7600000e+02, 1.3824000e+04,\n",
       "        3.3177600e+05],\n",
       "       [1.0000000e+00, 2.5000000e+01, 6.2500000e+02, 1.5625000e+04,\n",
       "        3.9062500e+05],\n",
       "       [1.0000000e+00, 2.6000000e+01, 6.7600000e+02, 1.7576000e+04,\n",
       "        4.5697600e+05],\n",
       "       [1.0000000e+00, 2.7000000e+01, 7.2900000e+02, 1.9683000e+04,\n",
       "        5.3144100e+05],\n",
       "       [1.0000000e+00, 2.8000000e+01, 7.8400000e+02, 2.1952000e+04,\n",
       "        6.1465600e+05],\n",
       "       [1.0000000e+00, 2.9000000e+01, 8.4100000e+02, 2.4389000e+04,\n",
       "        7.0728100e+05],\n",
       "       [1.0000000e+00, 3.0000000e+01, 9.0000000e+02, 2.7000000e+04,\n",
       "        8.1000000e+05],\n",
       "       [1.0000000e+00, 3.1000000e+01, 9.6100000e+02, 2.9791000e+04,\n",
       "        9.2352100e+05],\n",
       "       [1.0000000e+00, 3.2000000e+01, 1.0240000e+03, 3.2768000e+04,\n",
       "        1.0485760e+06],\n",
       "       [1.0000000e+00, 3.3000000e+01, 1.0890000e+03, 3.5937000e+04,\n",
       "        1.1859210e+06],\n",
       "       [1.0000000e+00, 3.4000000e+01, 1.1560000e+03, 3.9304000e+04,\n",
       "        1.3363360e+06],\n",
       "       [1.0000000e+00, 3.5000000e+01, 1.2250000e+03, 4.2875000e+04,\n",
       "        1.5006250e+06],\n",
       "       [1.0000000e+00, 3.6000000e+01, 1.2960000e+03, 4.6656000e+04,\n",
       "        1.6796160e+06],\n",
       "       [1.0000000e+00, 3.7000000e+01, 1.3690000e+03, 5.0653000e+04,\n",
       "        1.8741610e+06],\n",
       "       [1.0000000e+00, 3.8000000e+01, 1.4440000e+03, 5.4872000e+04,\n",
       "        2.0851360e+06],\n",
       "       [1.0000000e+00, 3.9000000e+01, 1.5210000e+03, 5.9319000e+04,\n",
       "        2.3134410e+06],\n",
       "       [1.0000000e+00, 4.0000000e+01, 1.6000000e+03, 6.4000000e+04,\n",
       "        2.5600000e+06],\n",
       "       [1.0000000e+00, 4.1000000e+01, 1.6810000e+03, 6.8921000e+04,\n",
       "        2.8257610e+06],\n",
       "       [1.0000000e+00, 4.2000000e+01, 1.7640000e+03, 7.4088000e+04,\n",
       "        3.1116960e+06],\n",
       "       [1.0000000e+00, 4.3000000e+01, 1.8490000e+03, 7.9507000e+04,\n",
       "        3.4188010e+06],\n",
       "       [1.0000000e+00, 4.4000000e+01, 1.9360000e+03, 8.5184000e+04,\n",
       "        3.7480960e+06],\n",
       "       [1.0000000e+00, 4.5000000e+01, 2.0250000e+03, 9.1125000e+04,\n",
       "        4.1006250e+06],\n",
       "       [1.0000000e+00, 4.6000000e+01, 2.1160000e+03, 9.7336000e+04,\n",
       "        4.4774560e+06],\n",
       "       [1.0000000e+00, 4.7000000e+01, 2.2090000e+03, 1.0382300e+05,\n",
       "        4.8796810e+06],\n",
       "       [1.0000000e+00, 4.8000000e+01, 2.3040000e+03, 1.1059200e+05,\n",
       "        5.3084160e+06],\n",
       "       [1.0000000e+00, 4.9000000e+01, 2.4010000e+03, 1.1764900e+05,\n",
       "        5.7648010e+06],\n",
       "       [1.0000000e+00, 5.0000000e+01, 2.5000000e+03, 1.2500000e+05,\n",
       "        6.2500000e+06],\n",
       "       [1.0000000e+00, 5.1000000e+01, 2.6010000e+03, 1.3265100e+05,\n",
       "        6.7652010e+06],\n",
       "       [1.0000000e+00, 5.2000000e+01, 2.7040000e+03, 1.4060800e+05,\n",
       "        7.3116160e+06],\n",
       "       [1.0000000e+00, 5.3000000e+01, 2.8090000e+03, 1.4887700e+05,\n",
       "        7.8904810e+06],\n",
       "       [1.0000000e+00, 5.4000000e+01, 2.9160000e+03, 1.5746400e+05,\n",
       "        8.5030560e+06],\n",
       "       [1.0000000e+00, 5.5000000e+01, 3.0250000e+03, 1.6637500e+05,\n",
       "        9.1506250e+06],\n",
       "       [1.0000000e+00, 5.6000000e+01, 3.1360000e+03, 1.7561600e+05,\n",
       "        9.8344960e+06],\n",
       "       [1.0000000e+00, 5.7000000e+01, 3.2490000e+03, 1.8519300e+05,\n",
       "        1.0556001e+07],\n",
       "       [1.0000000e+00, 5.8000000e+01, 3.3640000e+03, 1.9511200e+05,\n",
       "        1.1316496e+07],\n",
       "       [1.0000000e+00, 5.9000000e+01, 3.4810000e+03, 2.0537900e+05,\n",
       "        1.2117361e+07],\n",
       "       [1.0000000e+00, 6.0000000e+01, 3.6000000e+03, 2.1600000e+05,\n",
       "        1.2960000e+07],\n",
       "       [1.0000000e+00, 6.1000000e+01, 3.7210000e+03, 2.2698100e+05,\n",
       "        1.3845841e+07],\n",
       "       [1.0000000e+00, 6.2000000e+01, 3.8440000e+03, 2.3832800e+05,\n",
       "        1.4776336e+07],\n",
       "       [1.0000000e+00, 6.3000000e+01, 3.9690000e+03, 2.5004700e+05,\n",
       "        1.5752961e+07],\n",
       "       [1.0000000e+00, 6.4000000e+01, 4.0960000e+03, 2.6214400e+05,\n",
       "        1.6777216e+07],\n",
       "       [1.0000000e+00, 6.5000000e+01, 4.2250000e+03, 2.7462500e+05,\n",
       "        1.7850625e+07],\n",
       "       [1.0000000e+00, 6.6000000e+01, 4.3560000e+03, 2.8749600e+05,\n",
       "        1.8974736e+07],\n",
       "       [1.0000000e+00, 6.7000000e+01, 4.4890000e+03, 3.0076300e+05,\n",
       "        2.0151121e+07],\n",
       "       [1.0000000e+00, 6.8000000e+01, 4.6240000e+03, 3.1443200e+05,\n",
       "        2.1381376e+07],\n",
       "       [1.0000000e+00, 6.9000000e+01, 4.7610000e+03, 3.2850900e+05,\n",
       "        2.2667121e+07],\n",
       "       [1.0000000e+00, 7.0000000e+01, 4.9000000e+03, 3.4300000e+05,\n",
       "        2.4010000e+07],\n",
       "       [1.0000000e+00, 7.1000000e+01, 5.0410000e+03, 3.5791100e+05,\n",
       "        2.5411681e+07],\n",
       "       [1.0000000e+00, 7.2000000e+01, 5.1840000e+03, 3.7324800e+05,\n",
       "        2.6873856e+07],\n",
       "       [1.0000000e+00, 7.3000000e+01, 5.3290000e+03, 3.8901700e+05,\n",
       "        2.8398241e+07],\n",
       "       [1.0000000e+00, 7.4000000e+01, 5.4760000e+03, 4.0522400e+05,\n",
       "        2.9986576e+07],\n",
       "       [1.0000000e+00, 7.5000000e+01, 5.6250000e+03, 4.2187500e+05,\n",
       "        3.1640625e+07],\n",
       "       [1.0000000e+00, 7.6000000e+01, 5.7760000e+03, 4.3897600e+05,\n",
       "        3.3362176e+07],\n",
       "       [1.0000000e+00, 7.7000000e+01, 5.9290000e+03, 4.5653300e+05,\n",
       "        3.5153041e+07],\n",
       "       [1.0000000e+00, 7.8000000e+01, 6.0840000e+03, 4.7455200e+05,\n",
       "        3.7015056e+07],\n",
       "       [1.0000000e+00, 7.9000000e+01, 6.2410000e+03, 4.9303900e+05,\n",
       "        3.8950081e+07],\n",
       "       [1.0000000e+00, 8.0000000e+01, 6.4000000e+03, 5.1200000e+05,\n",
       "        4.0960000e+07]])"
      ]
     },
     "execution_count": 138,
     "metadata": {},
     "output_type": "execute_result"
    }
   ],
   "source": [
    "poly_reg=PolynomialFeatures(degree=4)\n",
    "x_poly=poly_reg.fit_transform(x)\n",
    "x_poly"
   ]
  },
  {
   "cell_type": "code",
   "execution_count": 139,
   "id": "bfb0205d",
   "metadata": {},
   "outputs": [
    {
     "data": {
      "text/plain": [
       "4"
      ]
     },
     "execution_count": 139,
     "metadata": {},
     "output_type": "execute_result"
    }
   ],
   "source": [
    "poly_reg.degree"
   ]
  },
  {
   "cell_type": "code",
   "execution_count": 140,
   "id": "3024715e",
   "metadata": {},
   "outputs": [
    {
     "data": {
      "text/plain": [
       "PolynomialFeatures(degree=4)"
      ]
     },
     "execution_count": 140,
     "metadata": {},
     "output_type": "execute_result"
    }
   ],
   "source": [
    "poly_reg.fit(x_poly,y)"
   ]
  },
  {
   "cell_type": "code",
   "execution_count": 141,
   "id": "00e27b06",
   "metadata": {},
   "outputs": [
    {
     "data": {
      "text/plain": [
       "LinearRegression()"
      ]
     },
     "execution_count": 141,
     "metadata": {},
     "output_type": "execute_result"
    }
   ],
   "source": [
    "lin_reg2=LinearRegression()\n",
    "lin_reg2.fit(x_poly,y)"
   ]
  },
  {
   "cell_type": "markdown",
   "id": "cce36936",
   "metadata": {},
   "source": [
    "# Polynomial Visualization"
   ]
  },
  {
   "cell_type": "code",
   "execution_count": 142,
   "id": "37d7e727",
   "metadata": {},
   "outputs": [
    {
     "data": {
      "image/png": "[encoded data removed]",
      "text/plain": [
       "<Figure size 432x288 with 1 Axes>"
      ]
     },
     "metadata": {
      "needs_background": "light"
     },
     "output_type": "display_data"
    }
   ],
   "source": [
    "plt.scatter(x,y,color='red')\n",
    "plt.plot(x,lin_reg2.predict(x_poly),color='blue')\n",
    "plt.title('Linear Model')\n",
    "plt.xlabel('Position Level')\n",
    "plt.ylabel('Salary')\n",
    "plt.show()"
   ]
  },
  {
   "cell_type": "code",
   "execution_count": 143,
   "id": "6b572623",
   "metadata": {},
   "outputs": [
    {
     "data": {
      "text/plain": [
       "array([139.08588959])"
      ]
     },
     "execution_count": 143,
     "metadata": {},
     "output_type": "execute_result"
    }
   ],
   "source": [
    "lin_reg2.predict(poly_reg.fit_transform([[14.5]]))"
   ]
  },
  {
   "cell_type": "code",
   "execution_count": 144,
   "id": "6d393023",
   "metadata": {},
   "outputs": [
    {
     "name": "stdout",
     "output_type": "stream",
     "text": [
      "for power 1\n",
      "score: 0.897345538595226\n",
      "for power 2\n",
      "score: 0.9903587947714737\n",
      "for power 3\n",
      "score: 0.995600902516618\n",
      "for power 4\n",
      "score: 0.995769818592484\n",
      "for power 5\n",
      "score: 0.9958773288959644\n",
      "for power 6\n",
      "score: 0.9974377640075694\n",
      "for power 7\n",
      "score: 0.9991426385668776\n",
      "for power 8\n",
      "score: 0.9992507631824531\n"
     ]
    }
   ],
   "source": [
    "from sklearn.metrics import r2_score\n",
    "for i in range(1,9):\n",
    "    poly_reg=PolynomialFeatures(degree=i)\n",
    "    x_poly=poly_reg.fit_transform(x)\n",
    "    \n",
    "    lin_reg2=LinearRegression()\n",
    "    lin_reg2.fit(x_poly,y)\n",
    "    print('for power %d' %i)\n",
    "    print('score:',r2_score(y,lin_reg2.predict(x_poly)))"
   ]
  },
  {
   "cell_type": "code",
   "execution_count": null,
   "id": "3334edf1",
   "metadata": {},
   "outputs": [],
   "source": []
  },
  {
   "cell_type": "code",
   "execution_count": null,
   "id": "7153e91d",
   "metadata": {},
   "outputs": [],
   "source": []
  }
 ],
 "metadata": {
  "kernelspec": {
   "display_name": "Python 3 (ipykernel)",
   "language": "python",
   "name": "python3"
  },
  "language_info": {
   "codemirror_mode": {
    "name": "ipython",
    "version": 3
   },
   "file_extension": ".py",
   "mimetype": "text/x-python",
   "name": "python",
   "nbconvert_exporter": "python",
   "pygments_lexer": "ipython3",
   "version": "3.9.7"
  }
 },
 "nbformat": 4,
 "nbformat_minor": 5
}

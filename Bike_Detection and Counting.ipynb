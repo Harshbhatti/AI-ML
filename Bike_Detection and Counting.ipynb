{
 "cells": [
  {
   "cell_type": "code",
   "execution_count": 3,
   "id": "ee8dd83f",
   "metadata": {},
   "outputs": [
    {
     "ename": "AttributeError",
     "evalue": "'NoneType' object has no attribute 'shape'",
     "output_type": "error",
     "traceback": [
      "\u001b[1;31m---------------------------------------------------------------------------\u001b[0m",
      "\u001b[1;31mAttributeError\u001b[0m                            Traceback (most recent call last)",
      "Cell \u001b[1;32mIn[3], line 11\u001b[0m\n\u001b[0;32m      9\u001b[0m \u001b[38;5;28;01mwhile\u001b[39;00m(\u001b[38;5;28;01mTrue\u001b[39;00m):\n\u001b[0;32m     10\u001b[0m     ret,img\u001b[38;5;241m=\u001b[39mcamera\u001b[38;5;241m.\u001b[39mread()\n\u001b[1;32m---> 11\u001b[0m     height,width\u001b[38;5;241m=\u001b[39m\u001b[43mimg\u001b[49m\u001b[38;5;241;43m.\u001b[39;49m\u001b[43mshape\u001b[49m[\u001b[38;5;241m0\u001b[39m:\u001b[38;5;241m2\u001b[39m]\n\u001b[0;32m     12\u001b[0m     img[\u001b[38;5;241m0\u001b[39m:\u001b[38;5;241m70\u001b[39m,\u001b[38;5;241m0\u001b[39m:width],[\u001b[38;5;241m0\u001b[39m,\u001b[38;5;241m0\u001b[39m,\u001b[38;5;241m255\u001b[39m]\n\u001b[0;32m     13\u001b[0m     cv2\u001b[38;5;241m.\u001b[39mputText(img,\u001b[38;5;124m'\u001b[39m\u001b[38;5;124mMOTO BIKES COUNT:\u001b[39m\u001b[38;5;124m'\u001b[39m,(\u001b[38;5;241m10\u001b[39m,\u001b[38;5;241m50\u001b[39m),cv2\u001b[38;5;241m.\u001b[39mFONT_HERSHEY_SIMPLEX,\u001b[38;5;241m1.5\u001b[39m,(\u001b[38;5;241m255\u001b[39m,\u001b[38;5;241m255\u001b[39m))\n",
      "\u001b[1;31mAttributeError\u001b[0m: 'NoneType' object has no attribute 'shape'"
     ]
    }
   ],
   "source": [
    "import cv2\n",
    "\n",
    "bikes_classifier=cv2.CascadeClassifier('two_wheeler.xml')\n",
    "\n",
    "camera=cv2.VideoCapture('bikes.mp4')\n",
    "\n",
    "count=0\n",
    "\n",
    "while(True):\n",
    "    ret,img=camera.read()\n",
    "    height,width=img.shape[0:2]\n",
    "    img[0:70,0:width],[0,0,255]\n",
    "    cv2.putText(img,'MOTO BIKES COUNT:',(10,50),cv2.FONT_HERSHEY_SIMPLEX,1.5,(255,255))\n",
    "    cv2.line(img,(0,height-200),(width,height-200),(0,255,255),2)\n",
    "    blur=cv2.blur(img,(3,3))\n",
    "    gray=cv2.cvtColor(blur,cv2.Color_BGR2GRAY)\n",
    "    bikes=bikes_classifier.detectMultiScale(gray)\n",
    "    for (x,y,w,h) in bikes:\n",
    "        bikesCy=int(y+h/2)\n",
    "        linCy=height-200\n",
    "        if(bikesCy<linCy+6 and bikeCy>linCy-6):\n",
    "            count=count+1\n",
    "            cv2.line(img,(0,height-200),(width,height-200),(0,0,255),5)\n",
    "            \n",
    "        cv2.rectangle(img,(x,y),(x+w,y+h),(0,255,0),2)\n",
    "        cv2.putText(img,'MOTO BIKES COUNT:',(10,50),cv2.FONT_HERSHEY_SIMPLEX,0.5,(0,255,0),2)\n",
    "        cv2.putText(img,str(count),(500,50),cv2.FONT_HERSHEY_SIMPLEX,1.5,(255,255,0),2)\n",
    "        \n",
    "    cv2.imshow('LIVE',img)\n",
    "    key=cv2.waitKey(1)\n",
    "    \n",
    "    if key==27:\n",
    "        break\n",
    "cv2.destroyAllWindows()\n",
    "camera.release()"
   ]
  },
  {
   "cell_type": "code",
   "execution_count": null,
   "id": "9c09bcfa",
   "metadata": {},
   "outputs": [],
   "source": []
  }
 ],
 "metadata": {
  "kernelspec": {
   "display_name": "Python 3 (ipykernel)",
   "language": "python",
   "name": "python3"
  },
  "language_info": {
   "codemirror_mode": {
    "name": "ipython",
    "version": 3
   },
   "file_extension": ".py",
   "mimetype": "text/x-python",
   "name": "python",
   "nbconvert_exporter": "python",
   "pygments_lexer": "ipython3",
   "version": "3.10.9"
  }
 },
 "nbformat": 4,
 "nbformat_minor": 5
}

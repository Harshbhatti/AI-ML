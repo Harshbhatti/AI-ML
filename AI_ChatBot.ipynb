{
 "cells": [
  {
   "cell_type": "code",
   "execution_count": null,
   "id": "9fc846ac",
   "metadata": {},
   "outputs": [],
   "source": [
    "pip install --upgrade sqlalchemy"
   ]
  },
  {
   "cell_type": "code",
   "execution_count": null,
   "id": "e058d306",
   "metadata": {},
   "outputs": [],
   "source": [
    "pip install chatterbot chatterbot_corpus nltk"
   ]
  },
  {
   "cell_type": "code",
   "execution_count": null,
   "id": "1ff5dc63",
   "metadata": {},
   "outputs": [],
   "source": [
    "pip install --upgrade chatterbot"
   ]
  },
  {
   "cell_type": "code",
   "execution_count": null,
   "id": "879bd2b5",
   "metadata": {},
   "outputs": [],
   "source": [
    "pip install spacy<2.2,>=2.1"
   ]
  },
  {
   "cell_type": "code",
   "execution_count": null,
   "id": "21856485",
   "metadata": {},
   "outputs": [],
   "source": [
    "pip install --upgrade SQLAlchemy"
   ]
  },
  {
   "cell_type": "code",
   "execution_count": null,
   "id": "9455ba06",
   "metadata": {},
   "outputs": [],
   "source": [
    "pip install SQLAlchemy==1.3.24"
   ]
  },
  {
   "cell_type": "code",
   "execution_count": null,
   "id": "62e96d19",
   "metadata": {},
   "outputs": [],
   "source": [
    "# Import necessary libraries\n",
    "from chatterbot import ChatBot\n",
    "from chatterbot.trainers import UbuntuCorpusTrainer\n",
    "from chatterbot.trainers import ChatterBotCorpusTrainer\n",
    "import nltk\n",
    "import random"
   ]
  },
  {
   "cell_type": "code",
   "execution_count": null,
   "id": "bed93e6c",
   "metadata": {},
   "outputs": [],
   "source": [
    "# Download NLTK resources\n",
    "nltk.download('punkt')"
   ]
  },
  {
   "cell_type": "code",
   "execution_count": null,
   "id": "ac5df72f",
   "metadata": {},
   "outputs": [],
   "source": [
    "# Create a chatbot instance\n",
    "chatbot = ChatBot('ComputerScienceBot')"
   ]
  },
  {
   "cell_type": "code",
   "execution_count": null,
   "id": "4d5a7c73",
   "metadata": {},
   "outputs": [],
   "source": [
    "# Create a new trainer for the chatbot using Chatterbot\n",
    "trainer = ChatterBotCorpusTrainer(chatbot)"
   ]
  },
  {
   "cell_type": "code",
   "execution_count": null,
   "id": "997b0cdb",
   "metadata": {},
   "outputs": [],
   "source": [
    "# Train the chatbot on the chatterbot\n",
    "trainer.train('chatterbot.corpus.english')"
   ]
  },
  {
   "cell_type": "code",
   "execution_count": null,
   "id": "d51bf33d",
   "metadata": {},
   "outputs": [],
   "source": [
    "# Function to simulate conversation with the chatbot\n",
    "def chat():\n",
    "    print(\"Chatbot: Hi! I'm your computer science assistant. Ask me anything, or type 'exit' to end the conversation.\")\n",
    "    \n",
    "    while True:\n",
    "        # Get user input\n",
    "        user_input = input(\"You: \")\n",
    "\n",
    "        # Check if the user wants to exit\n",
    "        if user_input.lower() == 'exit':\n",
    "            print(\"Chatbot: Goodbye!\")\n",
    "            break\n",
    "\n",
    "        # Get the chatbot's response\n",
    "        response = chatbot.get_response(user_input)\n",
    "        print(\"Chatbot:\", response)"
   ]
  },
  {
   "cell_type": "code",
   "execution_count": null,
   "id": "422b834a",
   "metadata": {},
   "outputs": [],
   "source": [
    "# Start the random conversation\n",
    "chat()"
   ]
  },
  {
   "cell_type": "code",
   "execution_count": null,
   "id": "0cd2c19b",
   "metadata": {},
   "outputs": [],
   "source": []
  },
  {
   "cell_type": "code",
   "execution_count": null,
   "id": "3a62f5a0-7c95-4aeb-b0dd-9056dd35a730",
   "metadata": {},
   "outputs": [],
   "source": []
  },
  {
   "cell_type": "code",
   "execution_count": null,
   "id": "054c66d7-194e-434b-be5b-699554a5dae5",
   "metadata": {},
   "outputs": [],
   "source": []
  },
  {
   "cell_type": "code",
   "execution_count": null,
   "id": "55a2391a-a40a-4f68-9afb-004a78d97f25",
   "metadata": {},
   "outputs": [],
   "source": [
    "# Install the required version of Python\n",
    "!sudo apt-get update -y\n",
    "!sudo apt-get install python3.8 python3.8-dev python3.8-distutils\n",
    "\n",
    "# Update alternatives\n",
    "!sudo update-alternatives --install /usr/bin/python3 python3 /usr/bin/python3.8 1\n",
    "\n",
    "# Check Python version\n",
    "!python3 --version\n"
   ]
  },
  {
   "cell_type": "code",
   "execution_count": null,
   "id": "75df2409-8d91-42a8-a8d9-231aeb0569be",
   "metadata": {},
   "outputs": [],
   "source": [
    "!apt-get update\n",
    "!apt-get install python3-pip\n"
   ]
  },
  {
   "cell_type": "code",
   "execution_count": null,
   "id": "d9d6d2e8-5d17-4239-8f6d-0f5ab455bc76",
   "metadata": {},
   "outputs": [],
   "source": [
    "!pip list"
   ]
  },
  {
   "cell_type": "code",
   "execution_count": null,
   "id": "213e4c10-194d-4627-85fd-bd6c30d2bc39",
   "metadata": {},
   "outputs": [],
   "source": [
    "!pip install chatterbot==1.0.5"
   ]
  },
  {
   "cell_type": "code",
   "execution_count": null,
   "id": "e1d8300d-cb5a-4c5a-93bd-222d72cd2b70",
   "metadata": {},
   "outputs": [],
   "source": [
    "!pip install chatterbot_corpus"
   ]
  },
  {
   "cell_type": "code",
   "execution_count": null,
   "id": "88a4d45c-5185-4359-a015-d1bbcd3ad63b",
   "metadata": {},
   "outputs": [],
   "source": [
    "!pip install nltk"
   ]
  },
  {
   "cell_type": "code",
   "execution_count": null,
   "id": "0238ef17-a9ed-495c-ae4a-11f54843c0eb",
   "metadata": {},
   "outputs": [],
   "source": [
    "from chatterbot import ChatBot\n",
    "from chatterbot.trainers import ChatterBotCorpusTrainer\n",
    "import nltk\n",
    "\n",
    "# Download NLTK resources\n",
    "nltk.download('punkt')\n",
    "\n",
    "# Create a chatbot instance\n",
    "chatbot = ChatBot('ComputerScienceBot')\n",
    "\n",
    "# Create a new trainer for the chatbot using Chatterbot\n",
    "trainer = ChatterBotCorpusTrainer(chatbot)\n",
    "\n",
    "# Train the chatbot on the chatterbot corpus\n",
    "trainer.train('chatterbot.corpus.english')\n"
   ]
  },
  {
   "cell_type": "code",
   "execution_count": null,
   "id": "7c114207-b6b7-466e-a21d-d3cc0c34aa7f",
   "metadata": {},
   "outputs": [],
   "source": [
    "# Function to simulate conversation with the chatbot\n",
    "def chat():\n",
    "    print(\"Chatbot: Hi! I'm your computer science assistant. Ask me anything, or type 'exit' to end the conversation.\")\n",
    "    \n",
    "    while True:\n",
    "        # Get user input\n",
    "        user_input = input(\"You: \")\n",
    "\n",
    "        # Check if the user wants to exit\n",
    "        if user_input.lower() == 'exit':\n",
    "            print(\"Chatbot: Goodbye!\")\n",
    "            break\n",
    "\n",
    "        # Get the chatbot's response\n",
    "        response = chatbot.get_response(user_input)\n",
    "        print(\"Chatbot:\", response)"
   ]
  },
  {
   "cell_type": "code",
   "execution_count": null,
   "id": "8a504f89-13eb-497d-bf3d-216662fc3aae",
   "metadata": {},
   "outputs": [],
   "source": []
  },
  {
   "cell_type": "code",
   "execution_count": null,
   "id": "44bf87c8-a13c-4265-bd0d-de575ab06068",
   "metadata": {},
   "outputs": [],
   "source": []
  },
  {
   "cell_type": "markdown",
   "id": "10739c85-e538-4e85-85fd-a0952970e0f9",
   "metadata": {},
   "source": [
    "# Python 3.12 Chatbot"
   ]
  },
  {
   "cell_type": "code",
   "execution_count": null,
   "id": "2a6c5d61-f7b9-4dad-abc9-da788a0590ab",
   "metadata": {},
   "outputs": [],
   "source": [
    "pip install torch torchvision torchaudio"
   ]
  },
  {
   "cell_type": "code",
   "execution_count": null,
   "id": "994eaa8b-3bd0-4499-b0e2-5fb6f3d27887",
   "metadata": {},
   "outputs": [],
   "source": [
    "pip install transformers"
   ]
  },
  {
   "cell_type": "code",
   "execution_count": null,
   "id": "6d889a64-2613-42d4-ab3f-f38b6055a207",
   "metadata": {},
   "outputs": [],
   "source": [
    "import torch\n",
    "from transformers import GPT2LMHeadModel, GPT2Tokenizer\n",
    "\n",
    "# Load pre-trained GPT-2 model and tokenizer\n",
    "model_name = \"gpt2\"  # You can use \"microsoft/DialoGPT-medium\" for a conversational model\n",
    "tokenizer = GPT2Tokenizer.from_pretrained(model_name)\n",
    "model = GPT2LMHeadModel.from_pretrained(model_name)\n",
    "\n",
    "# Function to generate a chatbot response\n",
    "def generate_response(user_input):\n",
    "    inputs = tokenizer.encode(user_input + tokenizer.eos_token, return_tensors=\"pt\")\n",
    "    reply_ids = model.generate(inputs, max_length=100, pad_token_id=tokenizer.eos_token_id)\n",
    "    response = tokenizer.decode(reply_ids[:, inputs.shape[-1]:][0], skip_special_tokens=True)\n",
    "    return response\n",
    "\n",
    "# Simple loop to chat with the bot\n",
    "if __name__ == \"__main__\":\n",
    "    print(\"Start chatting with the bot (type 'quit' to stop)!\")\n",
    "    while True:\n",
    "        user_input = input(\"You: \")\n",
    "        if user_input.lower() == \"quit\":\n",
    "            break\n",
    "        bot_response = generate_response(user_input)\n",
    "        print(f\"Bot: {bot_response}\")\n"
   ]
  },
  {
   "cell_type": "code",
   "execution_count": null,
   "id": "044e4bd3-2055-4ac3-9983-7cebe9f77b8d",
   "metadata": {},
   "outputs": [],
   "source": []
  }
 ],
 "metadata": {
  "kernelspec": {
   "display_name": "Python 3.9 (chatbot)",
   "language": "python",
   "name": "chatbot"
  },
  "language_info": {
   "codemirror_mode": {
    "name": "ipython",
    "version": 3
   },
   "file_extension": ".py",
   "mimetype": "text/x-python",
   "name": "python",
   "nbconvert_exporter": "python",
   "pygments_lexer": "ipython3",
   "version": "3.9.19"
  }
 },
 "nbformat": 4,
 "nbformat_minor": 5
}
